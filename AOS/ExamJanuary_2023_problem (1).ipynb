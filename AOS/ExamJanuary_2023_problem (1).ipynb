{
 "cells": [
  {
   "cell_type": "markdown",
   "id": "1502bfeb",
   "metadata": {
    "deletable": false
   },
   "source": [
    "# Exam 14th of June 2023, 8.00-13.00 for the course 1MS041 (Introduction to Data Science / Introduktion till dataanalys)\n",
    "\n",
    "## Instructions:\n",
    "1. Complete the problems by following instructions.\n",
    "2. When done, submit this file with your solutions saved, following the instruction sheet.\n",
    "\n",
    "This exam has 3 problems for a total of 40 points, to pass you need\n",
    "20 points.\n",
    "\n",
    "## Some general hints and information:\n",
    "* Try to answer all questions even if you are uncertain.\n",
    "* Comment your code, so that if you get the wrong answer I can understand how you thought\n",
    "this can give you some points even though the code does not run.\n",
    "* Follow the instruction sheet rigorously.\n",
    "* This exam is partially autograded, but your code and your free text answers are manually graded anonymously.\n",
    "* If there are any questions, please ask the exam guards, they will escalate it to me if necessary.\n",
    "* I (Benny) will visit the exam room at around 10:30 to see if there are any questions.\n",
    "\n",
    "## Tips for free text answers\n",
    "* Be VERY clear with your reasoning, there should be zero ambiguity in what you are referring to.\n",
    "* If you want to include math, you can write LaTeX in the Markdown cells, for instance `$f(x)=x^2$` will be rendered as $f(x)=x^2$ and `$$f(x) = x^2$$` will become an equation line, as follows\n",
    "$$f(x) = x^2$$\n",
    "Another example is `$$f_{Y \\mid X}(y,x) = P(Y = y \\mid X = x) = \\exp(\\alpha \\cdot x + \\beta)$$` which renders as\n",
    "$$f_{Y \\mid X}(y,x) = P(Y = y \\mid X = x) = \\exp(\\alpha \\cdot x + \\beta)$$\n",
    "\n",
    "## Finally some rules:\n",
    "* You may not communicate with others during the exam, for example:\n",
    "    * You cannot ask for help in Stack-Overflow or other such help forums during the Exam.\n",
    "    * You may not communicate with AI's, for instance ChatGPT.\n",
    "    * Your on-line and off-line activity is being monitored according to the examination rules.\n",
    "\n",
    "## Good luck!"
   ]
  },
  {
   "cell_type": "code",
   "execution_count": null,
   "id": "7b708db5",
   "metadata": {
    "deletable": false
   },
   "outputs": [],
   "source": [
    "# Insert your anonymous exam ID as a string in the variable below\n",
    "examID=\"XXX\"\n"
   ]
  },
  {
   "cell_type": "markdown",
   "id": "e3fcf1c7",
   "metadata": {
    "deletable": false,
    "lx_assignment_number": "vB",
    "lx_assignment_type": "EXAM",
    "lx_assignment_type2print": "Exam",
    "lx_problem_cell_type": "PROBLEM",
    "lx_problem_number": "1",
    "lx_problem_points": "14"
   },
   "source": [
    "---\n",
    "## Exam vB, PROBLEM 1\n",
    "Maximum Points = 14"
   ]
  },
  {
   "attachments": {},
   "cell_type": "markdown",
   "id": "140af589",
   "metadata": {
    "deletable": false,
    "lx_assignment_number": "vB",
    "lx_assignment_type": "EXAM",
    "lx_assignment_type2print": "Exam",
    "lx_problem_cell_type": "PROBLEM",
    "lx_problem_number": "1",
    "lx_problem_points": "14"
   },
   "source": [
    "A courier company operates a fleet of delivery trucks that make deliveries to different parts of the city. The trucks are equipped with GPS tracking devices that record the location of each truck at regular intervals. The locations are divided into three regions: downtown, the suburbs, and the countryside. The following table shows the probabilities of a truck transitioning between these regions at each time step:\n",
    "\n",
    "| Current region | Probability of transitioning to downtown | Probability of transitioning to the suburbs | Probability of transitioning to the countryside |\n",
    "|----------------|--------------------------------------------|-----------------------------------------------|------------------------------------------------|\n",
    "| Downtown       | 0.3                                      | 0.4                                           | 0.3                                            |\n",
    "| Suburbs        | 0.2                                      | 0.5                                           | 0.3                                            |\n",
    "| Countryside    | 0.4                                      | 0.3                                           | 0.3                                            |\n",
    "\n",
    "1. If a truck is currently in the suburbs, what is the probability that it will be in the downtown region after two time steps? [2p]\n",
    "2. If a truck is currently in the suburbs, what is the probability that it will be in the downtown region **the first time** after two time steps? [2p]\n",
    "3. Is this Markov chain irreducible? Explain your answer. [3p]\n",
    "4. What is the stationary distribution? [3p]\n",
    "5. Advanced question: What is the expected number of steps until the first time one enters the suburbs region having started in the downtown region. Hint: to get within 1 decimal point, it is enough to compute the probabilities for hitting times below 30. Motivate your answer in detail [4p]. You could also solve this question by simulation, but this gives you a maximum of [2p].\n",
    "\n"
   ]
  },
  {
   "cell_type": "code",
   "execution_count": null,
   "id": "510f5fc8",
   "metadata": {
    "deletable": false,
    "lx_assignment_number": "vB",
    "lx_assignment_type": "EXAM",
    "lx_assignment_type2print": "Exam",
    "lx_problem_cell_type": "PROBLEM",
    "lx_problem_number": "1",
    "lx_problem_points": "14"
   },
   "outputs": [],
   "source": [
    "# Part 1\n",
    "\n",
    "# Fill in the answer to part 1 below\n",
    "# Part 1\n",
    "import numpy as np\n",
    "P=np.array([\n",
    "    [0.3, 0.4, 0.3],\n",
    "    [0.2, 0.5, 0.3],\n",
    "    [0.4, 0.3, 0.3]\n",
    "])\n",
    "\n",
    "two_step_transition = np.linalg.matrix_power(P,2)#这里是求P的2次方，即两步转移概率矩阵\n",
    "prob_sub_to_downtown = two_step_transition[1,0]#这里是求从subway到downtown的概率，即第二行第一列的元素\n",
    "\n",
    "two_step_transition\n",
    "prob_sub_to_downtown\n",
    "problem1_p1 = prob_sub_to_downtown\n"
   ]
  },
  {
   "cell_type": "code",
   "execution_count": null,
   "id": "9a8ca879",
   "metadata": {
    "deletable": false,
    "lx_assignment_number": "vB",
    "lx_assignment_type": "EXAM",
    "lx_assignment_type2print": "Exam",
    "lx_problem_cell_type": "PROBLEM",
    "lx_problem_number": "1",
    "lx_problem_points": "14"
   },
   "outputs": [],
   "source": [
    "# Part 2\n",
    "import numpy as np\n",
    "P=np.array([\n",
    "    [0.3, 0.4, 0.3],\n",
    "    [0.2, 0.5, 0.3],\n",
    "    [0.4, 0.3, 0.3]\n",
    "])\n",
    "\n",
    "prob_sub_sub_downtown = P[1][1]*P[1][0]\n",
    "prob_sub_country_downtown = P[1][2]*P[2][0]\n",
    "prob_total = prob_sub_sub_downtown + prob_sub_country_downtown\n",
    "\n",
    "prob_total\n",
    "\n",
    "problem1_p2 = prob_total\n",
    "\n"
   ]
  },
  {
   "cell_type": "code",
   "execution_count": null,
   "id": "d4468088",
   "metadata": {
    "deletable": false,
    "lx_assignment_number": "vB",
    "lx_assignment_type": "EXAM",
    "lx_assignment_type2print": "Exam",
    "lx_problem_cell_type": "PROBLEM",
    "lx_problem_number": "1",
    "lx_problem_points": "14"
   },
   "outputs": [],
   "source": [
    "# Part 3\n",
    "\n",
    "# Fill in the answer to part 3 below as a boolean\n",
    "# Part 3\n",
    "\n",
    "# Fill in the answer to part 3 below as a boolean\n",
    "problem1_irreducible = True\n",
    "# why this markov chain is irreducible? \n",
    "# because it is a strongly connected graph, \n",
    "# which means that there is a path from any state to any other state.\n",
    "# not go back to the original state at probability 1"
   ]
  },
  {
   "attachments": {},
   "cell_type": "markdown",
   "id": "edf617c3",
   "metadata": {
    "deletable": false,
    "lx_assignment_number": "vB",
    "lx_assignment_type": "EXAM",
    "lx_assignment_type2print": "Exam",
    "lx_problem_cell_type": "PROBLEM",
    "lx_problem_number": "1",
    "lx_problem_points": "14"
   },
   "source": [
    "\n",
    "## Part 3\n",
    "\n",
    "Double click this cell to enter edit mode and write your answer for part 3 below this line.\n"
   ]
  },
  {
   "cell_type": "code",
   "execution_count": null,
   "id": "1404e5f5",
   "metadata": {
    "deletable": false,
    "lx_assignment_number": "vB",
    "lx_assignment_type": "EXAM",
    "lx_assignment_type2print": "Exam",
    "lx_problem_cell_type": "PROBLEM",
    "lx_problem_number": "1",
    "lx_problem_points": "14"
   },
   "outputs": [],
   "source": [
    "# Part 4\n",
    "\n",
    "# Fill in the answer to part 4 below\n",
    "# the answer should be a numpy array of length 3\n",
    "# make sure that the entries sums to 1!\n",
    "# Part 4\n",
    "import numpy as np\n",
    "P=np.array([\n",
    "    [0.3, 0.4, 0.3],\n",
    "    [0.2, 0.5, 0.3],\n",
    "    [0.4, 0.3, 0.3]\n",
    "])\n",
    "#计算P的转置矩阵的特征值和特征向量\n",
    "eigenvalue, eigenvectors = np.linalg.eig(P.T)\n",
    "#找到特征值为1的特征向量\n",
    "close_to_one = np.isclose(eigenvalue,1)\n",
    "relevant_eigenvectors = eigenvectors[:,close_to_one]\n",
    "#计算特征向量的实部\n",
    "stationary_vectors = np.real(relevant_eigenvectors.flatten())\n",
    "#计算稳态分布\n",
    "#归一化\n",
    "stationary_distribution = stationary_vectors/stationary_vectors.sum()#这里是将特征向量的实部除以特征向量的和，即得到稳态分布\n",
    "\n",
    "problem1_stationary = stationary_distribution\n",
    "# Fill in the answer to part 4 below\n",
    "# the answer should be a numpy array of length 3\n",
    "# make sure that the entries sums to 1!\n",
    "\n"
   ]
  },
  {
   "cell_type": "code",
   "execution_count": null,
   "id": "4ebfa71e",
   "metadata": {
    "deletable": false,
    "lx_assignment_number": "vB",
    "lx_assignment_type": "EXAM",
    "lx_assignment_type2print": "Exam",
    "lx_problem_cell_type": "PROBLEM",
    "lx_problem_number": "1",
    "lx_problem_points": "14"
   },
   "outputs": [],
   "source": [
    "# Part 5\n",
    "\n",
    "# Fill in the answer to part 5 below\n",
    "# That is, the expected number of steps\n",
    "es = 0\n",
    "ec = 0\n",
    "p_ss = 0.5\n",
    "p_sc = 0.3\n",
    "p_cs = 0.3\n",
    "\n",
    "# We can increase the number of iterations for more accuracy\n",
    "# Here, 1000 iterations should be more than sufficient for convergence.\n",
    "for _ in range(1000):\n",
    "    new_es = 1 + p_ss * es + p_sc * ec\n",
    "    new_ec = 1 + p_cs * es + p_sc * ec\n",
    "    es, ec = new_es, new_ec\n",
    "\n",
    "\n",
    "problem1_ET=es"
   ]
  },
  {
   "attachments": {},
   "cell_type": "markdown",
   "id": "abb77a62",
   "metadata": {
    "deletable": false,
    "lx_assignment_number": "vB",
    "lx_assignment_type": "EXAM",
    "lx_assignment_type2print": "Exam",
    "lx_problem_cell_type": "PROBLEM",
    "lx_problem_number": "1",
    "lx_problem_points": "14"
   },
   "source": [
    "\n",
    "## Part 5\n",
    "\n",
    "Double click this cell to enter edit mode and write your answer for part 5 below this line.\n"
   ]
  },
  {
   "cell_type": "markdown",
   "id": "d3612800",
   "metadata": {
    "deletable": false,
    "lx_assignment_number": "vB",
    "lx_assignment_type": "EXAM",
    "lx_assignment_type2print": "Exam",
    "lx_problem_cell_type": "PROBLEM",
    "lx_problem_number": "2",
    "lx_problem_points": "13"
   },
   "source": [
    "---\n",
    "## Exam vB, PROBLEM 2\n",
    "Maximum Points = 13"
   ]
  },
  {
   "attachments": {},
   "cell_type": "markdown",
   "id": "006eb1b6",
   "metadata": {
    "deletable": false,
    "lx_assignment_number": "vB",
    "lx_assignment_type": "EXAM",
    "lx_assignment_type2print": "Exam",
    "lx_problem_cell_type": "PROBLEM",
    "lx_problem_number": "2",
    "lx_problem_points": "13"
   },
   "source": [
    "\n",
    "You are given the \"Abalone\" dataset found in `data/abalone.csv`, which contains physical measurements of abalone (a type of sea shells) and the age of the abalone measured in **rings** (the number of rings in the shell) [https://en.wikipedia.org/wiki/Abalone](https://en.wikipedia.org/wiki/Abalone). Your task is to train a `linear regression` model to predict the age (Rings) of an abalone based on its physical measurements.\n",
    "\n",
    "To evaluate your model, you will split the dataset into a training set and a testing set. You will use the training set to train your model, and the testing set to evaluate its performance.\n",
    "\n",
    "1. Load the data into a pandas dataframe `problem2_df`. Based on the column names, figure out what are the features and the target and fill in the answer in the correct cell below. [2p]\n",
    "2. Split the data into train and test. [2p]\n",
    "3. Train the model. [1p]\n",
    "4. On the test set, evaluate the model by computing the mean absolute error and plot the empirical distribution function of the residual with confidence bands (i.e. using the DKW inequality and 95% confidence). Hint: you can use the function `plotEDF,makeEDF` combo from `Utils.py` that we have used numerous times, which also contains the option to have confidence bands. [3p]\n",
    "5. Provide a scatter plot where the x-axis corresponds to the predicted value and the y-axis is the true value, do this over the test set. [2p]\n",
    "6. Reason about the performance, for instance, is the value of the mean absolute error good/bad and what do you think about the scatter plot in point 5? [3p]\n"
   ]
  },
  {
   "cell_type": "code",
   "execution_count": null,
   "id": "67ad9ee5",
   "metadata": {
    "deletable": false,
    "lx_assignment_number": "vB",
    "lx_assignment_type": "EXAM",
    "lx_assignment_type2print": "Exam",
    "lx_problem_cell_type": "PROBLEM",
    "lx_problem_number": "2",
    "lx_problem_points": "13"
   },
   "outputs": [],
   "source": [
    "# Part 1\n",
    "# Let problem2_df be the pandas dataframe that contains the data from the file\n",
    "# data/abalone.csv\n",
    "import pandas as pd\n",
    "problem2_df = pd.read_csv('data/abalone.csv')\n"
   ]
  },
  {
   "cell_type": "code",
   "execution_count": null,
   "id": "eff6e330",
   "metadata": {
    "deletable": false,
    "lx_assignment_number": "vB",
    "lx_assignment_type": "EXAM",
    "lx_assignment_type2print": "Exam",
    "lx_problem_cell_type": "PROBLEM",
    "lx_problem_number": "2",
    "lx_problem_points": "13"
   },
   "outputs": [],
   "source": [
    "# Part 1\n",
    "\n",
    "# Fill in the features as a list of strings of the names of the columns\n",
    "\n",
    "problem2_features = problem2_df.columns.tolist()[:-1]\n",
    "# Fill in the target as a string with the correct column name\n",
    "\n",
    "problem2_target = problem2_df.columns.tolist()[-1]"
   ]
  },
  {
   "cell_type": "code",
   "execution_count": null,
   "id": "2614db4e",
   "metadata": {
    "deletable": false,
    "lx_assignment_number": "vB",
    "lx_assignment_type": "EXAM",
    "lx_assignment_type2print": "Exam",
    "lx_problem_cell_type": "PROBLEM",
    "lx_problem_number": "2",
    "lx_problem_points": "13"
   },
   "outputs": [],
   "source": [
    "# Part 2\n",
    "\n",
    "\n",
    "# Split the data into train and test using train_test_split\n",
    "# keep the train size as 0.8 and use random_state=42\n",
    "from sklearn.model_selection import train_test_split\n",
    "problem2_X_train,problem2_X_test,problem2_y_train,problem2_y_test = train_test_split(problem2_df[problem2_features],problem2_df[problem2_target],train_size=0.8,random_state=42)"
   ]
  },
  {
   "cell_type": "code",
   "execution_count": null,
   "id": "10349b69",
   "metadata": {
    "deletable": false,
    "lx_assignment_number": "vB",
    "lx_assignment_type": "EXAM",
    "lx_assignment_type2print": "Exam",
    "lx_problem_cell_type": "PROBLEM",
    "lx_problem_number": "2",
    "lx_problem_points": "13"
   },
   "outputs": [],
   "source": [
    "# Part 3\n",
    "\n",
    "# Include the necessary imports\n",
    "from sklearn.linear_model import LinearRegression\n",
    "# Initialize your linear regression model\n",
    "problem2_model = LinearRegression()\n",
    "\n",
    "# Train your model on the training data\n",
    "problem2_model.fit(problem2_X_train,problem2_y_train)\n"
   ]
  },
  {
   "cell_type": "code",
   "execution_count": null,
   "id": "bfaf8286",
   "metadata": {
    "deletable": false,
    "lx_assignment_number": "vB",
    "lx_assignment_type": "EXAM",
    "lx_assignment_type2print": "Exam",
    "lx_problem_cell_type": "PROBLEM",
    "lx_problem_number": "2",
    "lx_problem_points": "13"
   },
   "outputs": [],
   "source": [
    "# Part 4\n",
    "\n",
    "# Evaluate the model by computing the mean absolute error \n",
    "problem2_mae = XXX"
   ]
  },
  {
   "cell_type": "code",
   "execution_count": null,
   "id": "f247ee5e",
   "metadata": {
    "deletable": false,
    "lx_assignment_number": "vB",
    "lx_assignment_type": "EXAM",
    "lx_assignment_type2print": "Exam",
    "lx_problem_cell_type": "PROBLEM",
    "lx_problem_number": "2",
    "lx_problem_points": "13"
   },
   "outputs": [],
   "source": [
    "# Part 4\n",
    "\n",
    "# Write the code to plot the empirical distribution function of the residual\n",
    "# with confidence bands with 95% confidence in this cell\n",
    "\n",
    "# from Utils import makeEDF,plotEDF\n"
   ]
  },
  {
   "cell_type": "code",
   "execution_count": null,
   "id": "ec76a549",
   "metadata": {
    "deletable": false,
    "lx_assignment_number": "vB",
    "lx_assignment_type": "EXAM",
    "lx_assignment_type2print": "Exam",
    "lx_problem_cell_type": "PROBLEM",
    "lx_problem_number": "2",
    "lx_problem_points": "13"
   },
   "outputs": [],
   "source": [
    "# Part 5\n",
    "\n",
    "# Write the code below to produce the scatter plot for part 5\n"
   ]
  },
  {
   "attachments": {},
   "cell_type": "markdown",
   "id": "a6968726",
   "metadata": {
    "deletable": false,
    "lx_assignment_number": "vB",
    "lx_assignment_type": "EXAM",
    "lx_assignment_type2print": "Exam",
    "lx_problem_cell_type": "PROBLEM",
    "lx_problem_number": "2",
    "lx_problem_points": "13"
   },
   "source": [
    "\n",
    "## Part 6\n",
    "\n",
    "Double click this cell to enter edit mode and write your answer for part 6 below this line.\n",
    "\n",
    "#### Discussion on the value of the MAE\n",
    "\n",
    "#### Discussion on the predicted vs. true scatterplot\n",
    "\n",
    "#### Discussion\n"
   ]
  },
  {
   "cell_type": "markdown",
   "id": "0f81cb13",
   "metadata": {
    "deletable": false,
    "lx_assignment_number": "vB",
    "lx_assignment_type": "EXAM",
    "lx_assignment_type2print": "Exam",
    "lx_problem_cell_type": "PROBLEM",
    "lx_problem_number": "3",
    "lx_problem_points": "13"
   },
   "source": [
    "---\n",
    "## Exam vB, PROBLEM 3\n",
    "Maximum Points = 13"
   ]
  },
  {
   "attachments": {},
   "cell_type": "markdown",
   "id": "748f51f0",
   "metadata": {
    "deletable": false,
    "lx_assignment_number": "vB",
    "lx_assignment_type": "EXAM",
    "lx_assignment_type2print": "Exam",
    "lx_problem_cell_type": "PROBLEM",
    "lx_problem_number": "3",
    "lx_problem_points": "13"
   },
   "source": [
    "\n",
    "A healthcare organization is interested in understanding the relationship between the number of visits to the doctors office and certain patient characteristics. \n",
    "They have collected data on the number of visits for a sample of patients and have included the following variables\n",
    "\n",
    "* ofp : number of physician office visits\n",
    "* ofnp : number of nonphysician office visits\n",
    "* opp : number of physician outpatient visits\n",
    "* opnp : number of nonphysician outpatient visits\n",
    "* emr : number of emergency room visits\n",
    "* hosp : number of hospitalizations\n",
    "* exclhlth : the person is of excellent health (self-perceived)\n",
    "* poorhealth : the person is of poor health (self-perceived)\n",
    "* numchron : number of chronic conditions\n",
    "* adldiff : the person has a condition that limits activities of daily living ?\n",
    "* noreast : the person is from the north east region\n",
    "* midwest : the person is from the midwest region\n",
    "* west : the person is from the west region\n",
    "* age : age in years (divided by 10)\n",
    "* male : is the person male ?\n",
    "* married : is the person married ?\n",
    "* school : number of years of education\n",
    "* faminc : family income in 10000$\n",
    "* employed : is the person employed ?\n",
    "* privins : is the person covered by private health insurance?\n",
    "* medicaid : is the person covered by medicaid ?\n",
    "\n",
    "Decide which patient features are resonable to use to predict the target \"number of physician office visits\". Hint: should we really use the \"ofnp\" etc variables?\n",
    "\n",
    "Since the target variable is counts, a reasonable loss function is to consider the target variable as Poisson distributed where the parameter follows $\\lambda = \\exp(\\alpha \\cdot x + \\beta)$ where $\\alpha$ is a vector (slope) and $\\beta$ is a number (intercept). That is, the parameter is the exponential of a linear function. The reason we chose this as our parameter, is that it is always positive which is when the Poisson distribution is defined. To be specific we make the following assumption about our conditional density of $Y \\mid X$,\n",
    "$$\n",
    "    f_{Y \\mid X} (y,x) = \\frac{\\lambda^{y} e^{-\\lambda}}{y !}, \\quad \\lambda(x) = \\exp(\\alpha \\cdot x + \\beta).\n",
    "$$\n",
    "\n",
    "Recall from the lecture notes, (4.2) that in this case we should consider the log-loss (entropy) and that according to (4.2.1 Maximum Likelihood and regression) we can consider the conditional log-likelihood. Follow the steps of Example 1 and Example 2 in section (4.2) to derive the loss that needs to be minimized.\n",
    "\n",
    "Hint: when taking the log of the conditional density you will find that the term that contains the $y!$ does not depend on $\\lambda$ and as such does not depend on $\\alpha,\\beta$, it can thus be discarded. This will be essential due to numerical issues with factorials.\n",
    "\n",
    "Instructions:\n",
    "\n",
    "1. Load the file `data/visits_clean.csv` into the pandas dataframe `problem3_df`. Decide what should be features and target, give motivations for your choices. [3p]\n",
    "2. Create the `problem3_X` and the `problem3_y` as numpy arrays with `problem3_X` being the features and `problem3_y` being the target. Do the standard train-test split with 80% training data and 20% testing data. Store these in the variables defined in the cells. [3p]\n",
    "3. Implement $loss$ inside the class `PoissonRegression` by writing down the loss to be minimized, I have provided a formula for the $\\lambda$ that you can use. [2p]\n",
    "4. Now use the `PoissonRegression` class to train a Poisson regression model on the training data. [2p]\n",
    "5. Come up with a reasonable metric to evaluate your model on the test data, compute it and write down a justification of this. Also, interpret your result and compare it to something naive. [3p]\n"
   ]
  },
  {
   "cell_type": "code",
   "execution_count": null,
   "id": "d71cb526",
   "metadata": {
    "deletable": false,
    "lx_assignment_number": "vB",
    "lx_assignment_type": "EXAM",
    "lx_assignment_type2print": "Exam",
    "lx_problem_cell_type": "PROBLEM",
    "lx_problem_number": "3",
    "lx_problem_points": "13"
   },
   "outputs": [],
   "source": [
    "# Part 1\n",
    "import pandas as pd\n",
    "# Let problem3_df be the pandas dataframe that contains the data from the file\n",
    "# data/visits_clean.csv\n",
    "problem3_df = pd.read_csv('data/visits_clean.csv')"
   ]
  },
  {
   "cell_type": "code",
   "execution_count": null,
   "id": "e9674f37",
   "metadata": {
    "deletable": false,
    "lx_assignment_number": "vB",
    "lx_assignment_type": "EXAM",
    "lx_assignment_type2print": "Exam",
    "lx_problem_cell_type": "PROBLEM",
    "lx_problem_number": "3",
    "lx_problem_points": "13"
   },
   "outputs": [],
   "source": [
    "# Part 1\n",
    "\n",
    "# Fill in the features as a list of strings of the names of the columns\n",
    "\n",
    "problem3_features = problem3_df.columns.tolist()[:-1]\n",
    "\n",
    "# Fill in the target as a string with the correct column name\n",
    "\n",
    "problem3_target = problem3_df.columns.tolist()[-1]"
   ]
  },
  {
   "attachments": {},
   "cell_type": "markdown",
   "id": "263a3bee",
   "metadata": {
    "deletable": false,
    "lx_assignment_number": "vB",
    "lx_assignment_type": "EXAM",
    "lx_assignment_type2print": "Exam",
    "lx_problem_cell_type": "PROBLEM",
    "lx_problem_number": "3",
    "lx_problem_points": "13"
   },
   "source": [
    "\n",
    "## Part 1\n",
    "\n",
    "Double click this cell to enter edit mode and write your answer for part 1 below this line.\n",
    "\n",
    "#### What features are reasonable?\n",
    "\n",
    "#### In regards to how much data we have, how many features do you think we should aim for?\n",
    "\n",
    "#### What other features would you like to have used but was not collected?\n",
    "\n",
    "#### Discussion\n",
    "Reasonable Features:\n",
    "ofp (number of physician office visits): This is a crucial variable as it directly represents the primary focus of the study—physician office visits.\n",
    "\n",
    "numchron (number of chronic conditions): Chronic conditions are likely to impact the frequency of doctor visits, making this an important predictor.\n",
    "\n",
    "emr (number of emergency room visits): Emergency room visits could indicate a different aspect of healthcare utilization and might have a correlation with regular doctor visits.\n",
    "\n",
    "age: Age is often a significant factor in healthcare utilization. Different age groups may have varying healthcare needs.\n",
    "\n",
    "sex (male): Gender can influence health and healthcare-seeking behavior, so it's a relevant variable.\n",
    "\n",
    "marital status (married): Marital status might affect healthcare-seeking patterns.\n",
    "\n",
    "school (number of years of education): Education level can be associated with health literacy and awareness.\n",
    "\n",
    "faminc (family income): Economic status can impact access to healthcare services.\n",
    "\n",
    "employed: Employment status might influence both access to healthcare and stress levels.\n",
    "\n",
    "privins (private health insurance): Insurance coverage is a crucial factor in healthcare utilization.\n",
    "\n",
    "Number of Features:\n",
    "Considering the complexity of healthcare data and the potential for overfitting, a good rule of thumb is to aim for a reasonable number of features, possibly between 10 to 15. However, the final decision should also consider the specific modeling approach and the available sample size.\n",
    "\n",
    "Missing Features:\n",
    "While the provided features cover a broad range, additional useful features might include:\n",
    "\n",
    "Geographic location (beyond regions): More specific location data could provide insights into local healthcare infrastructure and resources.\n",
    "\n",
    "Health behaviors (e.g., smoking, exercise): Lifestyle factors can significantly impact health.\n",
    "\n",
    "Social support networks: Information about the patient's social connections could influence healthcare utilization."
   ]
  },
  {
   "cell_type": "code",
   "execution_count": null,
   "id": "0d00cab8",
   "metadata": {
    "deletable": false,
    "lx_assignment_number": "vB",
    "lx_assignment_type": "EXAM",
    "lx_assignment_type2print": "Exam",
    "lx_problem_cell_type": "PROBLEM",
    "lx_problem_number": "3",
    "lx_problem_points": "13"
   },
   "outputs": [],
   "source": [
    "# Part 2\n",
    "from sklearn.model_selection import train_test_split\n",
    "# Fill in your X and y below\n",
    "#  Create the `problem3_X` and the `problem3_y` as numpy arrays with `problem3_X` being the features and `problem3_y` being the target. Do the standard train-test split with 80% training data and 20% testing data. Store these in the variables defined in the cells. [3p]\n",
    "problem3_X = problem3_df[problem3_features].values\n",
    "problem3_y = problem3_df[problem3_target].values\n",
    "\n",
    "# Split the data into train and test using train_test_split\n",
    "# keep the train size as 0.8 and use random_state=42\n",
    "problem3_X_train, problem3_X_test, problem3_y_train, problem3_y_test = train_test_split(problem3_X, problem3_y, train_size=0.8, random_state=42)"
   ]
  },
  {
   "cell_type": "code",
   "execution_count": null,
   "id": "68e8c054",
   "metadata": {
    "deletable": false,
    "lx_assignment_number": "vB",
    "lx_assignment_type": "EXAM",
    "lx_assignment_type2print": "Exam",
    "lx_problem_cell_type": "PROBLEM",
    "lx_problem_number": "3",
    "lx_problem_points": "13"
   },
   "outputs": [],
   "source": [
    "# Part 3\n",
    "\n",
    "# Fill in the function loss below\n",
    "\n",
    "class PoissonRegression(object):\n",
    "    def __init__(self):\n",
    "        self.coeffs = None\n",
    "        self.result = None\n",
    "    \n",
    "    def fit(self,X,Y):\n",
    "        import numpy as np\n",
    "        from scipy import optimize\n",
    "\n",
    "        # define the objective/cost/loss function we want to minimise\n",
    "        def loss(coeffs):\n",
    "            # The parameter lambda for the given X and the proposed values \n",
    "            # of the coefficients, here coeff[:-1] represent alpha \n",
    "            # and coeff[-1] represent beta\n",
    "            lam = np.exp(np.dot(X,coeffs[:-1])+coeffs[-1])\n",
    "\n",
    "            # use the Y variable that is available here to define \n",
    "            # the loss function, return the value of the loss for \n",
    "            # this Y and for this parameter lam defined above\n",
    "            neg_log_likelihood = -np.mean(Y * np.log(lam) - lam)\n",
    "        \n",
    "            \n",
    "            return neg_log_likelihood\n",
    "\n",
    "        #Use the loss above together with an optimization method from scipy\n",
    "        #to find the coefficients of the model\n",
    "        #this is prepared for you below\n",
    "\n",
    "        initial_arguments = np.zeros(shape=X.shape[1]+1) # initial guess as 0\n",
    "        self.result = optimize.minimize(loss, initial_arguments,method='cg')\n",
    "        self.coeffs = self.result.x\n",
    "    \n",
    "    def predict(self,X):\n",
    "        #Use the trained model to predict Y\n",
    "        if (self.coeffs is not None):\n",
    "            return np.exp(np.dot(X,self.coeffs[:-1])+self.coeffs[-1])"
   ]
  },
  {
   "cell_type": "code",
   "execution_count": null,
   "id": "2e713dd9",
   "metadata": {
    "deletable": false,
    "lx_assignment_number": "vB",
    "lx_assignment_type": "EXAM",
    "lx_assignment_type2print": "Exam",
    "lx_problem_cell_type": "PROBLEM",
    "lx_problem_number": "3",
    "lx_problem_points": "13"
   },
   "outputs": [],
   "source": [
    "# Part 4\n",
    "\n",
    "# Initialize your PoissonRegression model\n",
    "from sklearn.linear_model import PoissonRegressor\n",
    "problem3_model = PoissonRegression()\n",
    "\n",
    "# Fit your initialized model on the training data\n",
    "problem3_model.fit(problem3_X_train,problem3_y_train)\n",
    "\n",
    "# This is to make sure that everything went well, \n",
    "# check that success is True\n",
    "print(problem3_model.result)"
   ]
  },
  {
   "cell_type": "code",
   "execution_count": null,
   "id": "e4036ed4",
   "metadata": {
    "deletable": false,
    "lx_assignment_number": "vB",
    "lx_assignment_type": "EXAM",
    "lx_assignment_type2print": "Exam",
    "lx_problem_cell_type": "PROBLEM",
    "lx_problem_number": "3",
    "lx_problem_points": "13"
   },
   "outputs": [],
   "source": [
    "# Part 5\n",
    "\n",
    "# Put the computed metric value in the variable below\n",
    "y_pred = problem3_model.predict(problem3_X_test)\n",
    "accuracy = accuracy_score(y_test, y_pred)\n",
    "naive_prediction = np.argmax(np.bincount(y_test)) #baseline prediction\n",
    "# Assumes binary classification\n",
    "naive_accuracy = accuracy_score(y_test, np.full_like(y_test, naive_prediction))\n",
    "\n",
    "problem3_metric = accuracy"
   ]
  },
  {
   "attachments": {},
   "cell_type": "markdown",
   "id": "9efd042d",
   "metadata": {
    "deletable": false,
    "lx_assignment_number": "vB",
    "lx_assignment_type": "EXAM",
    "lx_assignment_type2print": "Exam",
    "lx_problem_cell_type": "PROBLEM",
    "lx_problem_number": "3",
    "lx_problem_points": "13"
   },
   "source": [
    "\n",
    "## Part 5\n",
    "\n",
    "Double click this cell to enter edit mode and write your answer for part 5 below this line.\n",
    "\n",
    "#### Discussion on reasonable metrics and discussion about the value of the metric\n",
    " Justification of using accuracy:\n",
    " Accuracy is a reasonable metric for classification problems when classes are balanced. It represents the ratio of correctly predicted instances to the total instances. For healthcare-related models, where outcomes may have significant consequences, having a high accuracy is crucial.\n",
    "\n",
    "#### Comparison with a naive model\n",
    "Comparing the accuracy of the trained model with the accuracy of the naive model provides valuable insights:\n",
    "\n",
    "If the trained model's accuracy is significantly higher than the naive model's accuracy, it indicates that the model has learned meaningful patterns in the data and is performing better than a simplistic baseline.\n",
    "\n",
    "If the trained model's accuracy is only slightly better or similar to the naive model's accuracy, it suggests that the model may not be capturing important patterns, and further analysis or feature engineering might be needed.\n",
    "\n",
    "This comparison helps to assess the relative performance of the model and provides a benchmark to understand how well the model is doing compared to a basic, easily implementable strategy.\n"
   ]
  },
  {
   "cell_type": "markdown",
   "id": "9b35f6d5",
   "metadata": {},
   "source": []
  }
 ],
 "metadata": {
  "language_info": {
   "name": "python"
  },
  "lx_assignment_number": "vB",
  "lx_course_instance": "2022",
  "lx_course_name": "Introduction to Data Science",
  "lx_course_number": "1MS041"
 },
 "nbformat": 4,
 "nbformat_minor": 5
}
