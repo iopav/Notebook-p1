{
 "cells": [
  {
   "cell_type": "markdown",
   "id": "fccd9f80",
   "metadata": {
    "deletable": false
   },
   "source": [
    "# Assignment 1 for Course 1MS041\n",
    "Make         sure you pass the `# ... Test` cells and\n",
    " submit your solution notebook in the corresponding assignment on the course website. You can submit multiple times before the deadline         and your highest score will be used."
   ]
  },
  {
   "cell_type": "markdown",
   "id": "a6886b89",
   "metadata": {
    "deletable": false,
    "lx_assignment_number": "1",
    "lx_assignment_type": "ASSIGNMENT",
    "lx_assignment_type2print": "Assignment",
    "lx_problem_cell_type": "PROBLEM",
    "lx_problem_number": "1",
    "lx_problem_points": "3"
   },
   "source": [
    "---\n",
    "## Assignment 1, PROBLEM 1\n",
    "Maximum Points = 3"
   ]
  },
  {
   "cell_type": "markdown",
   "id": "0b98a4b7",
   "metadata": {
    "deletable": false,
    "lx_assignment_number": "1",
    "lx_assignment_type": "ASSIGNMENT",
    "lx_assignment_type2print": "Assignment",
    "lx_problem_cell_type": "PROBLEM",
    "lx_problem_number": "1",
    "lx_problem_points": "3"
   },
   "source": [
    "\n",
    "\n",
    "Given that you are being introduced to data science it is important to bear in mind the true costs of AI, a highly predictive family of algorithms used in data engineering sciences:\n",
    "\n",
    "Read the 16 pages of [ai-anatomy-publication.pdf](http://www.anatomyof.ai/img/ai-anatomy-publication.pdf) with the highly detailed [ai-anatomy-map.pdf](https://anatomyof.ai/img/ai-anatomy-map.pdf) of [https://anatomyof.ai/](https://anatomyof.ai/), \"Anatomy of an AI System\" By Kate Crawford and Vladan Joler (2018).  The first problem in ASSIGNMENT 1 is a trivial test of your reading comprehension.\n",
    "\n",
    "\n",
    "Answer whether each of the following statements is `True` or `False` *according to the authors* by appropriately replacing `Xxxxx` coresponding to `TruthValueOfStatement0a`, `TruthValueOfStatement0b` and `TruthValueOfStatement0c`, respectively, in the next cell to demonstrate your reading comprehension.\n",
    "\n",
    "1. `Statement0a =` *Each small moment of convenience (provided by Amazon's Echo) – be it answering a question, turning on a light, or playing a song – requires a vast planetary network, fueled by the extraction of non-renewable materials, labor, and data.*\n",
    "2. `Statement0b =` *The Echo user is simultaneously a consumer, a resource, a worker, and a product* \n",
    "3. `Statement0c =` *Many of the assumptions about human life made by machine learning systems are narrow, normative and laden with error. Yet they are inscribing and building those assumptions into a new world, and will increasingly play a role in how opportunities, wealth, and knowledge are distributed.*"
   ]
  },
  {
   "cell_type": "code",
   "execution_count": 1,
   "id": "9ba3f320",
   "metadata": {
    "deletable": false,
    "execution": {
     "iopub.execute_input": "2023-10-02T14:00:44.766786Z",
     "iopub.status.busy": "2023-10-02T14:00:44.764993Z",
     "iopub.status.idle": "2023-10-02T14:00:44.785624Z",
     "shell.execute_reply": "2023-10-02T14:00:44.783744Z"
    },
    "lx_assignment_number": "1",
    "lx_assignment_type": "ASSIGNMENT",
    "lx_assignment_type2print": "Assignment",
    "lx_problem_cell_type": "PROBLEM",
    "lx_problem_number": "1",
    "lx_problem_points": "3"
   },
   "outputs": [],
   "source": [
    "\n",
    "# Replace Xxxxx with True or False; Don't modify anything else in this cell!\n",
    "\n",
    "TruthValueOfStatement0a = True\n",
    "\n",
    "TruthValueOfStatement0b = True\n",
    "\n",
    "TruthValueOfStatement0c = True"
   ]
  },
  {
   "cell_type": "markdown",
   "id": "72ee048f",
   "metadata": {
    "deletable": false,
    "lx_assignment_number": "1",
    "lx_assignment_type": "ASSIGNMENT",
    "lx_assignment_type2print": "Assignment",
    "lx_problem_cell_type": "Test",
    "lx_problem_number": "1",
    "lx_problem_points": "3"
   },
   "source": [
    "---\n",
    "#### Local Test for Assignment 1, PROBLEM 1\n",
    "Evaluate cell below to make sure your answer is valid.                             You **should not** modify anything in the cell below when evaluating it to do a local test of                             your solution.\n",
    "You may need to include and evaluate code snippets from lecture notebooks in cells above to make the local test work correctly sometimes (see error messages for clues). This is meant to help you become efficient at recalling materials covered in lectures that relate to this problem. Such local tests will generally not be available in the exam."
   ]
  },
  {
   "cell_type": "code",
   "execution_count": 2,
   "id": "a885260d",
   "metadata": {
    "deletable": false,
    "execution": {
     "iopub.execute_input": "2023-10-02T14:00:44.793691Z",
     "iopub.status.busy": "2023-10-02T14:00:44.793030Z",
     "iopub.status.idle": "2023-10-02T14:00:44.804565Z",
     "shell.execute_reply": "2023-10-02T14:00:44.802959Z"
    },
    "lx_assignment_number": "1",
    "lx_assignment_type": "ASSIGNMENT",
    "lx_assignment_type2print": "Assignment",
    "lx_problem_cell_type": "Test",
    "lx_problem_number": "1",
    "lx_problem_points": "3"
   },
   "outputs": [
    {
     "name": "stdout",
     "output_type": "stream",
     "text": [
      "Good, you have answered either True or False. Hopefully they are the correct answers!\n"
     ]
    }
   ],
   "source": [
    "# Test locally to ensure an acceptable answer, True or False\n",
    "try:\n",
    "    assert(isinstance(TruthValueOfStatement0a, bool)) \n",
    "    assert(isinstance(TruthValueOfStatement0b, bool)) \n",
    "    assert(isinstance(TruthValueOfStatement0c, bool))\n",
    "except:\n",
    "    print(\"Try again. You are not writing True or False for your answers.\")\n",
    "else:\n",
    "    print(\"Good, you have answered either True or False. Hopefully they are the correct answers!\")"
   ]
  },
  {
   "cell_type": "code",
   "execution_count": 3,
   "id": "cda9f267",
   "metadata": {
    "deletable": false,
    "execution": {
     "iopub.execute_input": "2023-10-02T14:00:44.814594Z",
     "iopub.status.busy": "2023-10-02T14:00:44.813772Z",
     "iopub.status.idle": "2023-10-02T14:00:44.831538Z",
     "shell.execute_reply": "2023-10-02T14:00:44.830428Z"
    },
    "lx_assignment_number": "1",
    "lx_assignment_type": "ASSIGNMENT",
    "lx_assignment_type2print": "Assignment",
    "lx_problem_cell_type": "TEST",
    "lx_problem_number": "1",
    "lx_problem_points": "3",
    "lx_test_only": "True"
   },
   "outputs": [
    {
     "name": "stdout",
     "output_type": "stream",
     "text": [
      "You have the correct answer for TruthValueOfStatement0a, congratulations!\n",
      "The number of points you have scored for this problem so far = 1\n",
      "You have the correct answer for TruthValueOfStatement0b, congratulations!\n",
      "The number of points you have scored for this problem so far = 2\n",
      "You have the correct answer for TruthValueOfStatement0c, congratulations!\n",
      "The number of points you have scored for this problem so far = 3\n",
      "The number of points you have scored for this problem is 3 out of 3\n",
      "The number of points you have accumulated thus far is   3 out of 3\n"
     ]
    }
   ],
   "source": []
  },
  {
   "cell_type": "markdown",
   "id": "0b54b706",
   "metadata": {
    "deletable": false,
    "lx_assignment_number": "1",
    "lx_assignment_type": "ASSIGNMENT",
    "lx_assignment_type2print": "Assignment",
    "lx_problem_cell_type": "PROBLEM",
    "lx_problem_number": "2",
    "lx_problem_points": "2"
   },
   "source": [
    "---\n",
    "## Assignment 1, PROBLEM 2\n",
    "Maximum Points = 2"
   ]
  },
  {
   "cell_type": "markdown",
   "id": "462c67f5",
   "metadata": {
    "deletable": false,
    "lx_assignment_number": "1",
    "lx_assignment_type": "ASSIGNMENT",
    "lx_assignment_type2print": "Assignment",
    "lx_problem_cell_type": "PROBLEM",
    "lx_problem_number": "2",
    "lx_problem_points": "2"
   },
   "source": [
    "\n",
    "Evaluate the following cells by replacing `X` with the right command-line option to `head` in order to find the first four lines of the csv file `data/final.csv`\n",
    "\n",
    "```\n",
    "%%sh\n",
    "man head\n",
    "\n",
    "HEAD(1)                   BSD General Commands Manual                  HEAD(1)\n",
    "\n",
    "NAME\n",
    "     head -- display first lines of a file\n",
    "\n",
    "SYNOPSIS\n",
    "     head [-n count | -c bytes] [file ...]\n",
    "\n",
    "DESCRIPTION\n",
    "     This filter displays the first count lines or bytes of each of the speci-\n",
    "     fied files, or of the standard input if no files are specified.  If count\n",
    "     is omitted it defaults to 10.\n",
    "\n",
    "     If more than a single file is specified, each file is preceded by a\n",
    "     header consisting of the string ``==> XXX <=='' where ``XXX'' is the name\n",
    "     of the file.\n",
    "\n",
    "EXIT STATUS\n",
    "     The head utility exits 0 on success, and >0 if an error occurs.\n",
    "\n",
    "SEE ALSO\n",
    "     tail(1)\n",
    "\n",
    "HISTORY\n",
    "     The head command appeared in PWB UNIX.\n",
    "\n",
    "BSD                              June 6, 1993                              BSD\n",
    "```"
   ]
  },
  {
   "cell_type": "code",
   "execution_count": 4,
   "id": "0d5d3363",
   "metadata": {
    "deletable": false,
    "execution": {
     "iopub.execute_input": "2023-10-02T14:00:44.835917Z",
     "iopub.status.busy": "2023-10-02T14:00:44.835470Z",
     "iopub.status.idle": "2023-10-02T14:00:44.886866Z",
     "shell.execute_reply": "2023-10-02T14:00:44.884560Z"
    },
    "lx_assignment_number": "1",
    "lx_assignment_type": "ASSIGNMENT",
    "lx_assignment_type2print": "Assignment",
    "lx_problem_cell_type": "PROBLEM",
    "lx_problem_number": "2",
    "lx_problem_points": "2"
   },
   "outputs": [
    {
     "name": "stdout",
     "output_type": "stream",
     "text": [
      "region,municipality,district,party,votes\r\n",
      "Blekinge län,Karlshamn,0 - Centrala Asarum,S,519\r\n",
      "Blekinge län,Karlshamn,0 - Centrala Asarum,SD,311\r\n",
      "Blekinge län,Karlshamn,0 - Centrala Asarum,M,162\r\n",
      "Blekinge län,Karlshamn,0 - Centrala Asarum,V,82\r\n"
     ]
    }
   ],
   "source": [
    "%%sh\n",
    "head -n 5 data/final.csv"
   ]
  },
  {
   "cell_type": "code",
   "execution_count": 5,
   "id": "3951e673",
   "metadata": {
    "deletable": false,
    "execution": {
     "iopub.execute_input": "2023-10-02T14:00:44.894612Z",
     "iopub.status.busy": "2023-10-02T14:00:44.894080Z",
     "iopub.status.idle": "2023-10-02T14:00:44.899774Z",
     "shell.execute_reply": "2023-10-02T14:00:44.898655Z"
    },
    "lx_assignment_number": "1",
    "lx_assignment_type": "ASSIGNMENT",
    "lx_assignment_type2print": "Assignment",
    "lx_problem_cell_type": "PROBLEM",
    "lx_problem_number": "2",
    "lx_problem_points": "2"
   },
   "outputs": [],
   "source": [
    "line_1_final = \"region,municipality,district,party,votes\"\n",
    "line_2_final = \"Blekinge län,Karlshamn,0 - Centrala Asarum,S,519\""
   ]
  },
  {
   "cell_type": "markdown",
   "id": "631aa373",
   "metadata": {
    "deletable": false,
    "lx_assignment_number": "1",
    "lx_assignment_type": "ASSIGNMENT",
    "lx_assignment_type2print": "Assignment",
    "lx_problem_cell_type": "Test",
    "lx_problem_number": "2",
    "lx_problem_points": "2"
   },
   "source": [
    "---\n",
    "#### Local Test for Assignment 1, PROBLEM 2\n",
    "Evaluate cell below to make sure your answer is valid.                             You **should not** modify anything in the cell below when evaluating it to do a local test of                             your solution.\n",
    "You may need to include and evaluate code snippets from lecture notebooks in cells above to make the local test work correctly sometimes (see error messages for clues). This is meant to help you become efficient at recalling materials covered in lectures that relate to this problem. Such local tests will generally not be available in the exam."
   ]
  },
  {
   "cell_type": "code",
   "execution_count": 6,
   "id": "94391e75",
   "metadata": {
    "deletable": false,
    "execution": {
     "iopub.execute_input": "2023-10-02T14:00:44.904504Z",
     "iopub.status.busy": "2023-10-02T14:00:44.904088Z",
     "iopub.status.idle": "2023-10-02T14:00:44.910160Z",
     "shell.execute_reply": "2023-10-02T14:00:44.909281Z"
    },
    "lx_assignment_number": "1",
    "lx_assignment_type": "ASSIGNMENT",
    "lx_assignment_type2print": "Assignment",
    "lx_problem_cell_type": "Test",
    "lx_problem_number": "2",
    "lx_problem_points": "2"
   },
   "outputs": [
    {
     "name": "stdout",
     "output_type": "stream",
     "text": [
      "Good! You have answered as a string for line 1. Hopefully it is the correct!\n",
      "Good! You have answered as a string for line 2. Hopefully it is the correct!\n"
     ]
    }
   ],
   "source": [
    "# Evaluate this cell locally to make sure you have the answer as a string\n",
    "try:\n",
    "    assert(type(line_1_final) == str)\n",
    "    print(\"Good! You have answered as a string for line 1. Hopefully it is the correct!\")\n",
    "except AssertionError:\n",
    "    print(\"Try Again. You should answer with a string.\")\n",
    "try:\n",
    "    assert(type(line_2_final) == str)\n",
    "    print(\"Good! You have answered as a string for line 2. Hopefully it is the correct!\")\n",
    "except AssertionError:\n",
    "    print(\"Try Again. You should answer with a string.\")"
   ]
  },
  {
   "cell_type": "code",
   "execution_count": 7,
   "id": "195c13f3",
   "metadata": {
    "deletable": false,
    "execution": {
     "iopub.execute_input": "2023-10-02T14:00:44.913948Z",
     "iopub.status.busy": "2023-10-02T14:00:44.913622Z",
     "iopub.status.idle": "2023-10-02T14:00:44.921746Z",
     "shell.execute_reply": "2023-10-02T14:00:44.920856Z"
    },
    "lx_assignment_number": "1",
    "lx_assignment_type": "ASSIGNMENT",
    "lx_assignment_type2print": "Assignment",
    "lx_problem_cell_type": "TEST",
    "lx_problem_number": "2",
    "lx_problem_points": "2",
    "lx_test_only": "True"
   },
   "outputs": [
    {
     "name": "stdout",
     "output_type": "stream",
     "text": [
      "You have the correct first line, congratulations!\n",
      "The number of points you have scored for this problem so far = 1\n",
      "You have the correct second line, congratulations!\n",
      "The number of points you have scored for this problem so far = 2\n",
      "The number of points you have scored for this problem is 2 out of 2\n",
      "The number of points you have accumulated thus far is   5 out of 5\n"
     ]
    }
   ],
   "source": []
  },
  {
   "cell_type": "markdown",
   "id": "1a425a52",
   "metadata": {
    "deletable": false,
    "lx_assignment_number": "1",
    "lx_assignment_type": "ASSIGNMENT",
    "lx_assignment_type2print": "Assignment",
    "lx_problem_cell_type": "PROBLEM",
    "lx_problem_number": "3",
    "lx_problem_points": "3"
   },
   "source": [
    "---\n",
    "## Assignment 1, PROBLEM 3\n",
    "Maximum Points = 3"
   ]
  },
  {
   "cell_type": "markdown",
   "id": "13ccb4a6",
   "metadata": {
    "deletable": false,
    "lx_assignment_number": "1",
    "lx_assignment_type": "ASSIGNMENT",
    "lx_assignment_type2print": "Assignment",
    "lx_problem_cell_type": "PROBLEM",
    "lx_problem_number": "3",
    "lx_problem_points": "3"
   },
   "source": [
    "\n",
    "In this assignment the goal is to parse the `final.csv` file from the previous problem.\n",
    "\n",
    "1. Read the file `data/final.csv` and parse it using the `csv` package and store the result as follows\n",
    "\n",
    "the `header` variable contains a list of names all as strings\n",
    "\n",
    "the `data` variable should be a list of lists containing all the rows of the csv file"
   ]
  },
  {
   "cell_type": "code",
   "execution_count": 8,
   "id": "d985a916",
   "metadata": {
    "deletable": false,
    "execution": {
     "iopub.execute_input": "2023-10-02T14:00:44.925423Z",
     "iopub.status.busy": "2023-10-02T14:00:44.925097Z",
     "iopub.status.idle": "2023-10-02T14:00:45.537228Z",
     "shell.execute_reply": "2023-10-02T14:00:45.536438Z"
    },
    "lx_assignment_number": "1",
    "lx_assignment_type": "ASSIGNMENT",
    "lx_assignment_type2print": "Assignment",
    "lx_problem_cell_type": "PROBLEM",
    "lx_problem_number": "3",
    "lx_problem_points": "3"
   },
   "outputs": [],
   "source": [
    "\n",
    "import pandas as pd\n",
    "path=\"data/final.csv\"\n",
    "data =pd.read_csv(path,dtype = {'votes' : str})\n",
    "header1=data.columns\n",
    "\n",
    "data1=data.iloc[:]\n",
    "data1=data1.values\n",
    "data1=data1.tolist()\n",
    "\n",
    "header = list(header1)\n",
    "\n",
    "data = data1\n"
   ]
  },
  {
   "cell_type": "markdown",
   "id": "1f06eb05",
   "metadata": {
    "deletable": false,
    "lx_assignment_number": "1",
    "lx_assignment_type": "ASSIGNMENT",
    "lx_assignment_type2print": "Assignment",
    "lx_problem_cell_type": "Test",
    "lx_problem_number": "3",
    "lx_problem_points": "3"
   },
   "source": [
    "---\n",
    "#### Local Test for Assignment 1, PROBLEM 3\n",
    "Evaluate cell below to make sure your answer is valid.                             You **should not** modify anything in the cell below when evaluating it to do a local test of                             your solution.\n",
    "You may need to include and evaluate code snippets from lecture notebooks in cells above to make the local test work correctly sometimes (see error messages for clues). This is meant to help you become efficient at recalling materials covered in lectures that relate to this problem. Such local tests will generally not be available in the exam."
   ]
  },
  {
   "cell_type": "code",
   "execution_count": 9,
   "id": "1a73cd93",
   "metadata": {
    "deletable": false,
    "execution": {
     "iopub.execute_input": "2023-10-02T14:00:45.541008Z",
     "iopub.status.busy": "2023-10-02T14:00:45.540686Z",
     "iopub.status.idle": "2023-10-02T14:00:45.570569Z",
     "shell.execute_reply": "2023-10-02T14:00:45.569652Z"
    },
    "lx_assignment_number": "1",
    "lx_assignment_type": "ASSIGNMENT",
    "lx_assignment_type2print": "Assignment",
    "lx_problem_cell_type": "Test",
    "lx_problem_number": "3",
    "lx_problem_points": "3"
   },
   "outputs": [
    {
     "name": "stdout",
     "output_type": "stream",
     "text": [
      "Good! You have the header as a list. Hopefully it is the correct!\n",
      "Good! You have the header as a list of strings. Hopefully it is the correct!\n",
      "Good! You have the data as a list. Hopefully it is the correct!\n",
      "Good! You have the data as a list of lists. Hopefully it is the correct!\n",
      "Good! You have the data as a list of lists of strings. Hopefully it is the correct!\n"
     ]
    }
   ],
   "source": [
    "\n",
    "# Evaluate this cell locally to make sure you have the answer in the right format\n",
    "try:\n",
    "    assert(type(header) == list)\n",
    "    print(\"Good! You have the header as a list. Hopefully it is the correct!\")\n",
    "except AssertionError:\n",
    "    print(\"Try Again. You should answer with a list.\")\n",
    "try:\n",
    "    types = set([type(a) for a in header])\n",
    "    assert((len(types) == 1) and (list(types)[0] == str))\n",
    "    print(\"Good! You have the header as a list of strings. Hopefully it is the correct!\")\n",
    "except AssertionError:\n",
    "    print(\"Try Again. You should answer with a list of strings.\")\n",
    "try:\n",
    "    assert(type(data) == list)\n",
    "    print(\"Good! You have the data as a list. Hopefully it is the correct!\")\n",
    "except AssertionError:\n",
    "    print(\"Try Again. You should answer with a list.\")\n",
    "try:\n",
    "    types = set([type(a) for a in data])\n",
    "    assert((len(types) == 1) and (list(types)[0] == list))\n",
    "    print(\"Good! You have the data as a list of lists. Hopefully it is the correct!\")\n",
    "except AssertionError:\n",
    "    print(\"Try Again. You should answer with a list of lists.\")\n",
    "try:\n",
    "    types = set(sum([[type(d) for d in t] for t in data[:1]],[]))\n",
    "    assert((len(types) == 1) and (list(types)[0] == str))\n",
    "    print(\"Good! You have the data as a list of lists of strings. Hopefully it is the correct!\")\n",
    "except AssertionError:\n",
    "    print(\"Try Again. You should answer with a list of lists of strings.\")"
   ]
  },
  {
   "cell_type": "code",
   "execution_count": 10,
   "id": "a0a0e185",
   "metadata": {
    "deletable": false,
    "execution": {
     "iopub.execute_input": "2023-10-02T14:00:45.574480Z",
     "iopub.status.busy": "2023-10-02T14:00:45.573935Z",
     "iopub.status.idle": "2023-10-02T14:00:45.790918Z",
     "shell.execute_reply": "2023-10-02T14:00:45.790028Z"
    },
    "lx_assignment_number": "1",
    "lx_assignment_type": "ASSIGNMENT",
    "lx_assignment_type2print": "Assignment",
    "lx_problem_cell_type": "TEST",
    "lx_problem_number": "3",
    "lx_problem_points": "3",
    "lx_test_only": "True",
    "scrolled": true
   },
   "outputs": [
    {
     "name": "stdout",
     "output_type": "stream",
     "text": [
      "Good! Your header coincides with the reference\n",
      "The number of points you have scored for this problem so far = 1\n",
      "Good! Your data coincides with the reference on a test line\n",
      "The number of points you have scored for this problem so far = 3\n",
      "The number of points you have scored for this problem is 3 out of 3\n",
      "The number of points you have accumulated thus far is   8 out of 8\n"
     ]
    }
   ],
   "source": []
  },
  {
   "cell_type": "markdown",
   "id": "06e78b95",
   "metadata": {
    "deletable": false,
    "lx_assignment_number": "1",
    "lx_assignment_type": "ASSIGNMENT",
    "lx_assignment_type2print": "Assignment",
    "lx_problem_cell_type": "PROBLEM",
    "lx_problem_number": "4",
    "lx_problem_points": "8"
   },
   "source": [
    "---\n",
    "## Assignment 1, PROBLEM 4\n",
    "Maximum Points = 8"
   ]
  },
  {
   "cell_type": "markdown",
   "id": "c868e144",
   "metadata": {
    "deletable": false,
    "lx_assignment_number": "1",
    "lx_assignment_type": "ASSIGNMENT",
    "lx_assignment_type2print": "Assignment",
    "lx_problem_cell_type": "PROBLEM",
    "lx_problem_number": "4",
    "lx_problem_points": "8"
   },
   "source": [
    "\n",
    "## Students passing exam (Sample exam problem)\n",
    "Let's say we have an exam question which consists of $10$ yes/no questions. \n",
    "From past performance of similar students, a randomly chosen student will know the correct answer to $N \\sim \\text{binom}(10,6/10)$ questions. Furthermore, we assume that the student will guess the answer with equal probability to each question they don't know the answer to, i.e. given $N$ we define $Z \\sim \\text{binom}(10-N,1/2)$ as the number of correctly guessed answers. Define $Y = N + Z$, i.e., $Y$ represents the number of total correct answers.\n",
    "\n",
    "We are interested in setting a deterministic threshold $T$, i.e., we would pass a student at threshold $T$ if $Y \\geq T$. Here $T \\in \\{0,1,2,\\ldots,10\\}$.\n",
    "\n",
    "1. [5p] For each threshold $T$, compute the probability that the student *knows* less than $5$ correct answers given that the student passed, i.e., $N < 5$. Put the answer in `problem11_probabilities` as a list.\n",
    "2. [3p] What is the smallest value of $T$ such that if $Y \\geq T$ then we are 90\\% certain that $N \\geq 5$?"
   ]
  },
  {
   "cell_type": "code",
   "execution_count": 11,
   "id": "cce2fb0a",
   "metadata": {
    "deletable": false,
    "execution": {
     "iopub.execute_input": "2023-10-02T14:00:45.795011Z",
     "iopub.status.busy": "2023-10-02T14:00:45.794555Z",
     "iopub.status.idle": "2023-10-02T14:00:46.261803Z",
     "shell.execute_reply": "2023-10-02T14:00:46.260856Z"
    },
    "lx_assignment_number": "1",
    "lx_assignment_type": "ASSIGNMENT",
    "lx_assignment_type2print": "Assignment",
    "lx_problem_cell_type": "PROBLEM",
    "lx_problem_number": "4",
    "lx_problem_points": "8"
   },
   "outputs": [
    {
     "name": "stdout",
     "output_type": "stream",
     "text": [
      "[0.16623861760000014, 0.16623853222282584, 0.16623511712151587, 0.16617364051358027, 0.1655173254906335, 0.16089403080809428, 0.14445279891451662, 0.11223025722358074, 0.07321212315323337, 0.04058456420898443, 0.019727706909179715]\n",
      "8\n"
     ]
    }
   ],
   "source": [
    "from scipy.stats import binom\n",
    "\n",
    "problem11_probabilities1 = []\n",
    "\n",
    "# Define the probability for N\n",
    "p_N = 0.6\n",
    "\n",
    "for T in range(11):\n",
    "    prob_pass_and_less_than_5 = 0\n",
    "    prob_pass = 0\n",
    "    \n",
    "    for n in range(5): # Only consider N < 5 for this part\n",
    "        prob_n = binom.pmf(n, 10, p_N)\n",
    "        #P(N<5|Y>=T)\n",
    "        prob_pass_and_less_than_5 += prob_n * __builtins__.sum([binom.pmf(k, 10-n, 0.5) for k in range(T-n, 11-n)])\n",
    "    \n",
    "    for n in range(11): # Consider all N values for this part\n",
    "        prob_n = binom.pmf(n, 10, p_N)\n",
    "        prob_pass += prob_n * __builtins__.sum([binom.pmf(k, 10-n, 0.5) for k in range(T-n, 11-n)])\n",
    "    \n",
    "    # Calculate conditional probability: P(N < 5 | Y >= T)=P(N < 5 and Y >= T) / P(Y >= T)\n",
    "    conditional_prob = prob_pass_and_less_than_5 / prob_pass\n",
    "    \n",
    "    problem11_probabilities1.append(conditional_prob)\n",
    "\n",
    "\n",
    "problem11_probabilities =problem11_probabilities1\n",
    "print(problem11_probabilities)\n",
    "\n",
    "T_90 = next(T for T, p in enumerate(problem11_probabilities1) if p <= 0.1)\n",
    "problem12_T = T_90\n",
    "print(problem12_T)"
   ]
  },
  {
   "cell_type": "code",
   "execution_count": null,
   "id": "8cbc7cdf",
   "metadata": {
    "deletable": false,
    "execution": {
     "iopub.execute_input": "2023-10-02T14:00:46.265866Z",
     "iopub.status.busy": "2023-10-02T14:00:46.265459Z",
     "iopub.status.idle": "2023-10-02T14:00:46.279201Z",
     "shell.execute_reply": "2023-10-02T14:00:46.278282Z"
    },
    "lx_assignment_number": "1",
    "lx_assignment_type": "ASSIGNMENT",
    "lx_assignment_type2print": "Assignment",
    "lx_problem_cell_type": "TEST",
    "lx_problem_number": "4",
    "lx_problem_points": "8",
    "lx_test_only": "True"
   },
   "outputs": [
    {
     "name": "stdout",
     "output_type": "stream",
     "text": [
      "Beginning tests for PROBLEM 4\n",
      "\n",
      "Your answers for problem11_probabilities differed on 0 number of positions by more than 10^(-3)\n",
      "\n",
      "The number of points you have scored for this problem is 8 out of 8\n",
      "The number of points you have accumulated thus far is   16 out of 16\n"
     ]
    }
   ],
   "source": [
    "from scipy.stats import binom\n",
    "\n",
    "# 存储问题11中每个阈值下学生通过并且知道少于5个正确答案的概率\n",
    "problem11_probabilities1 = []\n",
    "\n",
    "# Define the probability for N\n",
    "# 定义N的概率\n",
    "p_N = 0.6\n",
    "\n",
    "# Loop to calculate the probability for each threshold T\n",
    "# 循环计算每个阈值T的概率\n",
    "for T in range(11):\n",
    "    prob_pass_and_less_than_5 = 0\n",
    "    prob_pass = 0\n",
    "    \n",
    "    # Only consider N < 5 for this part\n",
    "    # 仅考虑N < 5的情况\n",
    "    for n in range(5):\n",
    "        # Calculate the probability for N\n",
    "        # 计算N的概率\n",
    "        prob_n = binom.pmf(n, 10, p_N)\n",
    "        # Calculate P(N < 5 | Y >= T)\n",
    "        # 计算P(N < 5 | Y >= T)\n",
    "        prob_pass_and_less_than_5 += prob_n * sum([binom.pmf(k, 10-n, 0.5) for k in range(T-n, 11-n)])\n",
    "    \n",
    "    # Consider all N values for this part\n",
    "    # 考虑所有N值的情况\n",
    "    for n in range(11):\n",
    "        # Calculate the probability for N\n",
    "        # 计算N的概率\n",
    "        prob_n = binom.pmf(n, 10, p_N)\n",
    "        prob_pass += prob_n * sum([binom.pmf(k, 10-n, 0.5) for k in range(T-n, 11-n)])\n",
    "    \n",
    "    # Calculate conditional probability: P(N < 5 | Y >= T)=P(N < 5 and Y >= T) / P(Y >= T)\n",
    "    # 计算条件概率：P(N < 5 | Y >= T)=P(N < 5 and Y >= T) / P(Y >= T)\n",
    "    conditional_prob = prob_pass_and_less_than_5 / prob_pass\n",
    "    \n",
    "    # Append the computed probability to the list\n",
    "    # 将计算得到的条件概率添加到列表中\n",
    "    problem11_probabilities1.append(conditional_prob)\n",
    "\n",
    "# Assign the probability list for problem 11 to the problem 11 probabilities variable\n",
    "# 将问题11的概率列表赋值给问题11的概率变量\n",
    "problem11_probabilities = problem11_probabilities1\n",
    "print(\"1. 每个阈值下学生通过并且知道少于5个正确答案的概率:\")\n",
    "print(problem11_probabilities)\n",
    "\n",
    "# Find the smallest T value such that the probability is less than or equal to 0.1\n",
    "# 找到满足概率小于等于0.1的最小T值\n",
    "T_90 = next(T for T, p in enumerate(problem11_probabilities1) if p <= 0.1)\n",
    "problem12_T = T_90\n",
    "print(\"\\n2. 满足90%概率的最小T值:\")\n",
    "print(problem12_T)\n"
   ]
  },
  {
   "cell_type": "markdown",
   "id": "a97186e1",
   "metadata": {
    "deletable": false,
    "lx_assignment_number": "1",
    "lx_assignment_type": "ASSIGNMENT",
    "lx_assignment_type2print": "Assignment",
    "lx_problem_cell_type": "PROBLEM",
    "lx_problem_number": "5",
    "lx_problem_points": "8"
   },
   "source": [
    "---\n",
    "## Assignment 1, PROBLEM 5\n",
    "Maximum Points = 8"
   ]
  },
  {
   "cell_type": "markdown",
   "id": "e75c904a",
   "metadata": {
    "deletable": false,
    "lx_assignment_number": "1",
    "lx_assignment_type": "ASSIGNMENT",
    "lx_assignment_type2print": "Assignment",
    "lx_problem_cell_type": "PROBLEM",
    "lx_problem_number": "5",
    "lx_problem_points": "8"
   },
   "source": [
    "\n",
    "## Concentration of measure (Sample exam problem)\n",
    "\n",
    "As you recall, we said that concentration of measure was simply the phenomenon where we expect that the probability of a large deviation of some quantity becoming smaller as we observe more samples: [0.4 points per correct answer]\n",
    "\n",
    "1. Which of the following will exponentially concentrate, i.e. for some $C_1,C_2,C_3,C_4 $ \n",
    "$$\n",
    "    P(Z - \\mathbb{E}[Z] \\geq \\epsilon) \\leq C_1 e^{-C_2 n \\epsilon^2} \\wedge C_3 e^{-C_4 n (\\epsilon+1)} \\enspace .\n",
    "$$\n",
    "\n",
    "    1. The empirical variance of i.i.d. random variables with finite mean?\n",
    "    2. The empirical variance of i.i.d. sub-Gaussian random variables?\n",
    "    3. The empirical variance of i.i.d. sub-Exponential random variables?\n",
    "    4. The empirical mean of i.i.d. sub-Gaussian random variables?\n",
    "    5. The empirical mean of i.i.d. sub-Exponential random variables?\n",
    "    6. The empirical mean of i.i.d. random variables with finite variance?\n",
    "    7. The empirical third moment of i.i.d. random variables with finite sixth moment?\n",
    "    8. The empirical fourth moment of i.i.d. sub-Gaussian random variables?\n",
    "    9. The empirical mean of i.i.d. deterministic random variables?\n",
    "    10. The empirical tenth moment of i.i.d. Bernoulli random variables?\n",
    "\n",
    "2. Which of the above will concentrate in the weaker sense, that for some $C_1$\n",
    "$$\n",
    "    P(Z - \\mathbb{E}[Z] \\geq \\epsilon) \\leq \\frac{C_1}{n \\epsilon^2}?\n",
    "$$"
   ]
  },
  {
   "cell_type": "code",
   "execution_count": 13,
   "id": "cce12fd5",
   "metadata": {
    "deletable": false,
    "execution": {
     "iopub.execute_input": "2023-10-02T14:00:46.284510Z",
     "iopub.status.busy": "2023-10-02T14:00:46.284130Z",
     "iopub.status.idle": "2023-10-02T14:00:46.288422Z",
     "shell.execute_reply": "2023-10-02T14:00:46.287440Z"
    },
    "lx_assignment_number": "1",
    "lx_assignment_type": "ASSIGNMENT",
    "lx_assignment_type2print": "Assignment",
    "lx_problem_cell_type": "PROBLEM",
    "lx_problem_number": "5",
    "lx_problem_points": "8"
   },
   "outputs": [],
   "source": [
    "\n",
    "# Answers to part 1, which of the alternatives exponentially concentrate, answer as a list\n",
    "# i.e. [1,4,5] that is example 1, 4, and 5 concentrate\n",
    "problem3_answer_1 = [1,2,8,9] #5"
   ]
  },
  {
   "cell_type": "code",
   "execution_count": 14,
   "id": "80d96dcc",
   "metadata": {
    "deletable": false,
    "execution": {
     "iopub.execute_input": "2023-10-02T14:00:46.292988Z",
     "iopub.status.busy": "2023-10-02T14:00:46.292364Z",
     "iopub.status.idle": "2023-10-02T14:00:46.297284Z",
     "shell.execute_reply": "2023-10-02T14:00:46.296321Z"
    },
    "lx_assignment_number": "1",
    "lx_assignment_type": "ASSIGNMENT",
    "lx_assignment_type2print": "Assignment",
    "lx_problem_cell_type": "PROBLEM",
    "lx_problem_number": "5",
    "lx_problem_points": "8"
   },
   "outputs": [],
   "source": [
    "\n",
    "# Answers to part 2, which of the alternatives concentrate in the weaker sense, answer as a list\n",
    "# i.e. [1,4,5] that is example 1, 4, and 5 concentrate\n",
    "problem3_answer_2 =  [1,2,6,7]"
   ]
  },
  {
   "cell_type": "code",
   "execution_count": 15,
   "id": "2076f94d",
   "metadata": {
    "deletable": false,
    "execution": {
     "iopub.execute_input": "2023-10-02T14:00:46.300993Z",
     "iopub.status.busy": "2023-10-02T14:00:46.300620Z",
     "iopub.status.idle": "2023-10-02T14:00:46.318063Z",
     "shell.execute_reply": "2023-10-02T14:00:46.317172Z"
    },
    "lx_assignment_number": "1",
    "lx_assignment_type": "ASSIGNMENT",
    "lx_assignment_type2print": "Assignment",
    "lx_problem_cell_type": "TEST",
    "lx_problem_number": "5",
    "lx_problem_points": "8",
    "lx_test_only": "True"
   },
   "outputs": [
    {
     "name": "stdout",
     "output_type": "stream",
     "text": [
      "Beginning tests for PROBLEM 5\n",
      "\n",
      "Correct answers for part1: 5\n",
      "Correct answers for part2: 3\n",
      "\n",
      "The number of points you have scored for this problem is 3 out of 8\n",
      " \n",
      " \n",
      " \n",
      "The number of points you have scored in total for this entire set of Problems is 19 out of 24\n"
     ]
    }
   ],
   "source": []
  }
 ],
 "metadata": {
  "language_info": {
   "codemirror_mode": {
    "name": "ipython",
    "version": 3
   },
   "file_extension": ".py",
   "mimetype": "text/x-python",
   "name": "python",
   "nbconvert_exporter": "python",
   "pygments_lexer": "ipython3",
   "version": "3.9.12"
  },
  "lx_assignment_number": 1,
  "lx_course_instance": "2023",
  "lx_course_name": "Introduction to Data Science",
  "lx_course_number": "1MS041"
 },
 "nbformat": 4,
 "nbformat_minor": 5
}
