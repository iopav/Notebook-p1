{
 "cells": [
  {
   "cell_type": "markdown",
   "metadata": {
    "deletable": false
   },
   "source": [
    "# Assignment 2 for Course 1MS041\n",
    "Make         sure you pass the `# ... Test` cells and\n",
    " submit your solution notebook in the corresponding assignment on the course website. You can submit multiple times before the deadline         and your highest score will be used."
   ]
  },
  {
   "cell_type": "markdown",
   "metadata": {
    "deletable": false,
    "lx_assignment_number": "2",
    "lx_assignment_type": "ASSIGNMENT",
    "lx_assignment_type2print": "Assignment",
    "lx_problem_cell_type": "PROBLEM",
    "lx_problem_number": "1",
    "lx_problem_points": "8"
   },
   "source": [
    "---\n",
    "## Assignment 2, PROBLEM 1\n",
    "Maximum Points = 8"
   ]
  },
  {
   "cell_type": "markdown",
   "metadata": {
    "deletable": false,
    "lx_assignment_number": "2",
    "lx_assignment_type": "ASSIGNMENT",
    "lx_assignment_type2print": "Assignment",
    "lx_problem_cell_type": "PROBLEM",
    "lx_problem_number": "1",
    "lx_problem_points": "8"
   },
   "source": [
    "\n",
    "A courier company operates a fleet of delivery trucks that make deliveries to different parts of the city. The trucks are equipped with GPS tracking devices that record the location of each truck at regular intervals. The locations are divided into three regions: downtown, the suburbs, and the countryside. The following table shows the probabilities of a truck transitioning between these regions at each time step:\n",
    "\n",
    "| Current region | Probability of transitioning to downtown | Probability of transitioning to the suburbs | Probability of transitioning to the countryside |\n",
    "|----------------|--------------------------------------------|-----------------------------------------------|------------------------------------------------|\n",
    "| Downtown       | 0.3                                      | 0.4                                           | 0.3                                            |\n",
    "| Suburbs        | 0.2                                      | 0.5                                           | 0.3                                            |\n",
    "| Countryside    | 0.4                                      | 0.3                                           | 0.3                                            |\n",
    "\n",
    "1. If a truck is currently in the suburbs, what is the probability that it will be in the downtown region after two time steps? [1.5p]\n",
    "2. If a truck is currently in the suburbs, what is the probability that it will be in the downtown region **the first time** after two time steps? [1.5p]\n",
    "3. Is this Markov chain irreducible? [1.5p]\n",
    "4. What is the stationary distribution? [1.5p]\n",
    "5. Advanced question: What is the expected number of steps until the first time one enters the downtown region having started in the suburbs region. Hint: to get within 1 decimal point, it is enough to compute the probabilities for hitting times below 30. [2p]\n",
    "\n"
   ]
  },
  {
   "cell_type": "code",
   "execution_count": 1,
   "metadata": {
    "deletable": false,
    "lx_assignment_number": "2",
    "lx_assignment_type": "ASSIGNMENT",
    "lx_assignment_type2print": "Assignment",
    "lx_problem_cell_type": "PROBLEM",
    "lx_problem_number": "1",
    "lx_problem_points": "14",
    "scrolled": true
   },
   "outputs": [],
   "source": [
    "# Part 1\n",
    "import numpy as np\n",
    "P=np.array([\n",
    "    [0.3, 0.4, 0.3],\n",
    "    [0.2, 0.5, 0.3],\n",
    "    [0.4, 0.3, 0.3]\n",
    "])\n",
    "\n",
    "two_step_transition = np.linalg.matrix_power(P,2)\n",
    "prob_sub_to_downtown = two_step_transition[1,0]\n",
    "# Fill in the answer to part 1 below as a decimal number\n",
    "two_step_transition\n",
    "prob_sub_to_downtown\n",
    "problem1_p1 = prob_sub_to_downtown\n"
   ]
  },
  {
   "cell_type": "code",
   "execution_count": 2,
   "metadata": {
    "deletable": false,
    "lx_assignment_number": "2",
    "lx_assignment_type": "ASSIGNMENT",
    "lx_assignment_type2print": "Assignment",
    "lx_problem_cell_type": "PROBLEM",
    "lx_problem_number": "1",
    "lx_problem_points": "14"
   },
   "outputs": [],
   "source": [
    "# Part 2\n",
    "import numpy as np\n",
    "P=np.array([\n",
    "    [0.3, 0.4, 0.3],\n",
    "    [0.2, 0.5, 0.3],\n",
    "    [0.4, 0.3, 0.3]\n",
    "])\n",
    "\n",
    "prob_sub_sub_downtown = P[1][1]*P[1][0]\n",
    "prob_sub_country_downtown = P[1][2]*P[2][0]\n",
    "prob_total = prob_sub_sub_downtown + prob_sub_country_downtown\n",
    "\n",
    "prob_total\n",
    "\n",
    "problem1_p2 = prob_total\n",
    "\n",
    "# Fill in the answer to part 2 below as a decimal number\n"
   ]
  },
  {
   "cell_type": "code",
   "execution_count": 3,
   "metadata": {
    "deletable": false,
    "lx_assignment_number": "2",
    "lx_assignment_type": "ASSIGNMENT",
    "lx_assignment_type2print": "Assignment",
    "lx_problem_cell_type": "PROBLEM",
    "lx_problem_number": "1",
    "lx_problem_points": "14"
   },
   "outputs": [],
   "source": [
    "# Part 3\n",
    "\n",
    "# Fill in the answer to part 3 below as a boolean\n",
    "problem1_irreducible = True"
   ]
  },
  {
   "cell_type": "code",
   "execution_count": 4,
   "metadata": {
    "deletable": false,
    "lx_assignment_number": "2",
    "lx_assignment_type": "ASSIGNMENT",
    "lx_assignment_type2print": "Assignment",
    "lx_problem_cell_type": "PROBLEM",
    "lx_problem_number": "1",
    "lx_problem_points": "14"
   },
   "outputs": [],
   "source": [
    "# Part 4\n",
    "import numpy as np\n",
    "P=np.array([\n",
    "    [0.3, 0.4, 0.3],\n",
    "    [0.2, 0.5, 0.3],\n",
    "    [0.4, 0.3, 0.3]\n",
    "])\n",
    "eigenvalue, eigenvectors = np.linalg.eig(P.T)\n",
    "close_to_one = np.isclose(eigenvalue,1)\n",
    "relevant_eigenvectors = eigenvectors[:,close_to_one]\n",
    "stationary_vectors = np.real(relevant_eigenvectors.flatten())\n",
    "stationary_distribution = stationary_vectors/stationary_vectors.sum()\n",
    "\n",
    "problem1_stationary = stationary_distribution\n",
    "# Fill in the answer to part 4 below\n",
    "# the answer should be a numpy array of length 3\n",
    "# make sure that the entries sums to 1!\n"
   ]
  },
  {
   "cell_type": "code",
   "execution_count": 5,
   "metadata": {},
   "outputs": [
    {
     "data": {
      "text/plain": [
       "array([0.28888889, 0.41111111, 0.3       ])"
      ]
     },
     "execution_count": 5,
     "metadata": {},
     "output_type": "execute_result"
    }
   ],
   "source": [
    "problem1_stationary"
   ]
  },
  {
   "cell_type": "code",
   "execution_count": 6,
   "metadata": {
    "deletable": false,
    "lx_assignment_number": "2",
    "lx_assignment_type": "ASSIGNMENT",
    "lx_assignment_type2print": "Assignment",
    "lx_problem_cell_type": "PROBLEM",
    "lx_problem_number": "1",
    "lx_problem_points": "14"
   },
   "outputs": [
    {
     "data": {
      "text/plain": [
       "3.846153846153845"
      ]
     },
     "execution_count": 6,
     "metadata": {},
     "output_type": "execute_result"
    }
   ],
   "source": [
    "es = 0\n",
    "ec = 0\n",
    "p_ss = 0.5\n",
    "p_sc = 0.3\n",
    "p_cs = 0.3\n",
    "\n",
    "# We can increase the number of iterations for more accuracy\n",
    "# Here, 1000 iterations should be more than sufficient for convergence.\n",
    "for _ in range(1000):\n",
    "    new_es = 1 + p_ss * es + p_sc * ec\n",
    "    new_ec = 1 + p_cs * es + p_sc * ec\n",
    "    es, ec = new_es, new_ec\n",
    "\n",
    "\n",
    "problem1_ET=es\n",
    "problem1_ET"
   ]
  },
  {
   "cell_type": "markdown",
   "metadata": {
    "deletable": false,
    "lx_assignment_number": "2",
    "lx_assignment_type": "ASSIGNMENT",
    "lx_assignment_type2print": "Assignment",
    "lx_problem_cell_type": "PROBLEM",
    "lx_problem_number": "2",
    "lx_problem_points": "8"
   },
   "source": [
    "---\n",
    "## Assignment 2, PROBLEM 2\n",
    "Maximum Points = 8"
   ]
  },
  {
   "cell_type": "markdown",
   "metadata": {
    "deletable": false,
    "lx_assignment_number": "2",
    "lx_assignment_type": "ASSIGNMENT",
    "lx_assignment_type2print": "Assignment",
    "lx_problem_cell_type": "PROBLEM",
    "lx_problem_number": "2",
    "lx_problem_points": "8"
   },
   "source": [
    "\n",
    "A healthcare organization is interested in understanding the relationship between the number of visits to the doctors office and certain patient characteristics. \n",
    "They have collected data on the number of visits (for a year) for a sample of patients and have included the following variables\n",
    "\n",
    "* ofp : number of physician office visits\n",
    "* ofnp : number of nonphysician office visits\n",
    "* opp : number of physician outpatient visits\n",
    "* opnp : number of nonphysician outpatient visits\n",
    "* emr : number of emergency room visits\n",
    "* hosp : number of hospitalizations\n",
    "* exclhlth : the person is of excellent health (self-perceived)\n",
    "* poorhealth : the person is of poor health (self-perceived)\n",
    "* numchron : number of chronic conditions\n",
    "* adldiff : the person has a condition that limits activities of daily living ?\n",
    "* noreast : the person is from the north east region\n",
    "* midwest : the person is from the midwest region\n",
    "* west : the person is from the west region\n",
    "* age : age in years (divided by 10)\n",
    "* male : is the person male ?\n",
    "* married : is the person married ?\n",
    "* school : number of years of education\n",
    "* faminc : family income in 10000$\n",
    "* employed : is the person employed ?\n",
    "* privins : is the person covered by private health insurance?\n",
    "* medicaid : is the person covered by medicaid ?\n",
    "\n",
    "Decide which patient features are resonable to use to predict the target \"number of physician office visits\". Hint: should we really use the \"ofnp\" etc variables?\n",
    "\n",
    "Since the target variable is counts, a reasonable loss function is to consider the target variable as Poisson distributed where the parameter follows $\\lambda = \\exp(\\alpha \\cdot x + \\beta)$ where $\\alpha$ is a vector (slope) and $\\beta$ is a number (intercept). That is, the parameter is the exponential of a linear function. The reason we chose this as our parameter, is that it is always positive which is when the Poisson distribution is defined. To be specific we make the following assumption about our conditional density of $Y \\mid X$,\n",
    "$$\n",
    "    f_{Y \\mid X} (y,x) = \\frac{\\lambda^{y} e^{-\\lambda}}{y !}, \\quad \\lambda(x) = \\exp(\\alpha \\cdot x + \\beta).\n",
    "$$\n",
    "\n",
    "Recall from the lecture notes, (4.2) that in this case we should consider the log-loss (entropy) and that according to (4.2.1 Maximum Likelihood and regression) we can consider the conditional log-likelihood. Follow the steps of Example 1 and Example 2 in section (4.2) to derive the loss that needs to be minimized.\n",
    "\n",
    "Hint: when taking the log of the conditional density you will find that the term that contains the $y!$ does not depend on $\\lambda$ and as such does not depend on $\\alpha,\\beta$, it can thus be discarded. This will be essential due to numerical issues with factorials.\n",
    "\n",
    "Instructions:\n",
    "\n",
    "1. Load the file `data/visits_clean.csv`, follow the instructions in the code cell of how this should happen [1.5p]\n",
    "2. Create the `problem2_X` and the `problem2_y` as numpy arrays with `problem2_X` being the features and `problem2_y` being the target. Do the standard train-test split with 80% training data and 20% testing data. Store these in the variables defined in the cells. [1.5p]\n",
    "3. Implement $loss$ inside the class `PoissonRegression` by writing down the loss to be minimized, I have provided a formula for the $\\lambda$ that you can use. [1.5p]\n",
    "4. Now use the `PoissonRegression` class to train a Poisson regression model on the training data. [1.5p]\n",
    "5. Compute the mean absolute error of your prediction on the test set and use Hoeffdings inequality to produce a 95\\% confidence interval for the mean absolute error. We can make the assumption that the error is bounded by 70 for simplicity. [2p]\n"
   ]
  },
  {
   "cell_type": "code",
   "execution_count": 31,
   "metadata": {
    "deletable": false,
    "lx_assignment_number": "2",
    "lx_assignment_type": "ASSIGNMENT",
    "lx_assignment_type2print": "Assignment",
    "lx_problem_cell_type": "PROBLEM",
    "lx_problem_number": "2",
    "lx_problem_points": "8"
   },
   "outputs": [],
   "source": [
    "import csv\n",
    "import numpy as np\n",
    "from scipy import optimize\n",
    "import scipy.special\n",
    "from sklearn.metrics import mean_absolute_error\n",
    "\n",
    "# Initialize an empty list to store the data\n",
    "data_rows = []\n",
    "\n",
    "# Open the CSV file and read the data\n",
    "with open(\"data/visits_clean.csv\", \"r\") as file:\n",
    "    # Read the first line for the header\n",
    "    problem2_header = file.readline().strip().split()\n",
    "    # Read the rest of the lines for the data\n",
    "    for line in file:\n",
    "        # Split the line into values using whitespace as the delimiter\n",
    "        values = line.strip().split()\n",
    "        # Convert each string in the values list to float and append to data_rows\n",
    "        data_rows.append([float(value) for value in values])\n",
    "\n",
    "# Convert the list of rows to a NumPy array and ensure all values are floats\n",
    "problem2_data = np.array(data_rows, dtype=float)\n"
   ]
  },
  {
   "cell_type": "code",
   "execution_count": 35,
   "metadata": {
    "deletable": false,
    "lx_assignment_number": "2",
    "lx_assignment_type": "ASSIGNMENT",
    "lx_assignment_type2print": "Assignment",
    "lx_problem_cell_type": "PROBLEM",
    "lx_problem_number": "2",
    "lx_problem_points": "8"
   },
   "outputs": [
    {
     "data": {
      "text/plain": [
       "3525"
      ]
     },
     "execution_count": 35,
     "metadata": {},
     "output_type": "execute_result"
    }
   ],
   "source": [
    "\n",
    "\n",
    "# Fill in your X and y below\n",
    "problem2_X = problem2_data[:,1:]\n",
    "problem2_y = problem2_data[:,0]\n",
    "\n",
    "indices = np.arange(problem2_data.shape[0])\n",
    "\n",
    "np.random.shuffle(indices)\n",
    "\n",
    "train_ratio=0.8\n",
    "total_samples=problem2_data.shape[0]\n",
    "train_samples=int(np.ceil(total_samples*train_ratio))\n",
    "\n",
    "problem2_X_train = problem2_X[indices[:train_samples]]\n",
    "problem2_y_train = problem2_y[indices[:train_samples]]\n",
    "\n",
    "\n",
    "problem2_X_test = problem2_X[indices[train_samples:]]\n",
    "problem2_y_test = problem2_y[indices[train_samples:]]\n",
    "\n",
    "train_samples"
   ]
  },
  {
   "cell_type": "code",
   "execution_count": 36,
   "metadata": {
    "deletable": false,
    "lx_assignment_number": "2",
    "lx_assignment_type": "ASSIGNMENT",
    "lx_assignment_type2print": "Assignment",
    "lx_problem_cell_type": "PROBLEM",
    "lx_problem_number": "2",
    "lx_problem_points": "8"
   },
   "outputs": [],
   "source": [
    "\n",
    "import numpy as np\n",
    "from scipy import optimize\n",
    "\n",
    "class PoissonRegression(object):\n",
    "    def __init__(self):\n",
    "        self.coeffs = None\n",
    "        self.result = None\n",
    "    \n",
    "    def loss(self, X, Y, coeffs):\n",
    "       \n",
    "        lam = np.exp(np.dot(X, coeffs[:-1]) + coeffs[-1])\n",
    "        #TODO 为什么这里是mean？\n",
    "        neg_log_likelihood = -np.mean(Y * np.log(lam) - lam)\n",
    "        return neg_log_likelihood\n",
    "\n",
    "    def fit(self, X, Y):\n",
    "        \n",
    "        opt_loss = lambda coeffs: self.loss(X, Y, coeffs)\n",
    "        initial_arguments = np.zeros(X.shape[1] + 1)  # Starting with 0 as initial guess\n",
    "        self.result = optimize.minimize(opt_loss, initial_arguments, method='cg')\n",
    "        self.coeffs = self.result.x\n",
    "        \n",
    "    def predict(self, X):\n",
    "        \n",
    "        if self.coeffs is None:\n",
    "            raise ValueError(\"The model is not fitted yet.\")\n",
    "        return np.exp(np.dot(X, self.coeffs[:-1]) + self.coeffs[-1])"
   ]
  },
  {
   "cell_type": "code",
   "execution_count": 37,
   "metadata": {
    "deletable": false,
    "lx_assignment_number": "2",
    "lx_assignment_type": "ASSIGNMENT",
    "lx_assignment_type2print": "Assignment",
    "lx_problem_cell_type": "PROBLEM",
    "lx_problem_number": "2",
    "lx_problem_points": "8",
    "scrolled": false
   },
   "outputs": [
    {
     "name": "stdout",
     "output_type": "stream",
     "text": [
      " message: Optimization terminated successfully.\n",
      " success: True\n",
      "  status: 0\n",
      "     fun: -4.932295374269785\n",
      "       x: [ 1.924e-02 -1.191e-02 ...  2.949e-01  1.110e+00]\n",
      "     nit: 1361\n",
      "     jac: [ 5.662e-06 -6.616e-06 ...  8.345e-07 -2.086e-06]\n",
      "    nfev: 51656\n",
      "    njev: 2348\n"
     ]
    }
   ],
   "source": [
    "\n",
    "\n",
    "\n",
    "problem2_model = PoissonRegression()\n",
    "\n",
    "# Fit your initialized model on the training data\n",
    "problem2_model.fit(problem2_X_train,problem2_y_train)\n",
    "\n",
    "# This is to make sure that everything went well, \n",
    "# check that success is True\n",
    "print(problem2_model.result)"
   ]
  },
  {
   "cell_type": "code",
   "execution_count": 38,
   "metadata": {
    "deletable": false,
    "lx_assignment_number": "2",
    "lx_assignment_type": "ASSIGNMENT",
    "lx_assignment_type2print": "Assignment",
    "lx_problem_cell_type": "PROBLEM",
    "lx_problem_number": "2",
    "lx_problem_points": "8"
   },
   "outputs": [
    {
     "name": "stdout",
     "output_type": "stream",
     "text": [
      "Mean Absolute Error: 4.180321304451305\n",
      "95% Confidence interval for the MAE: (0.9774291199218603, 7.383213488980751)\n"
     ]
    }
   ],
   "source": [
    "from sklearn.metrics import mean_absolute_error\n",
    "\n",
    "\n",
    "if problem2_model.result.success:\n",
    "    # If optimization was successful, calculate predictions and MAE\n",
    "    predictions = problem2_model.predict(problem2_X_test)\n",
    "    actual_values = problem2_y_test\n",
    "\n",
    "# Calculate MAE\n",
    "    MAE = mean_absolute_error(actual_values, predictions)\n",
    "\n",
    "    problem2_metric = MAE\n",
    "\n",
    "# Constants for Hoeffding's inequality\n",
    "    a = 0  # Minimum error\n",
    "    b = 70  # Maximum error, roughly 5 days between visits as a maximum value\n",
    "    n = len(problem2_y_test)  # Number of samples in the test set\n",
    "    delta = 0.05  # Confidence level (95%)\n",
    "\n",
    "\n",
    "\n",
    "# Compute the Hoeffding bound (t)\n",
    "    t = np.sqrt((b - a) ** 2 * np.log(2 / delta) / (2 * n))\n",
    "\n",
    "# Confidence interval for the MAE\n",
    "    l_edge = max(problem2_metric - t, a)  # Ensuring the lower edge is at least 'a'\n",
    "    r_edge = min(problem2_metric + t, b)\n",
    "\n",
    "# Put the confidence interval in the variable below\n",
    "    problem2_interval = (l_edge, r_edge)\n",
    "\n",
    "# Assign the MAE to the variable\n",
    "    problem2_metric = problem2_metric\n",
    "    \n",
    "    print(f\"Mean Absolute Error: {problem2_metric}\")\n",
    "    print(f\"95% Confidence interval for the MAE: {problem2_interval}\")\n",
    "else:\n",
    "    print(\"Optimization was not successful. Consider revising the loss function, scaling features, or changing optimization parameters.\")\n"
   ]
  },
  {
   "cell_type": "markdown",
   "metadata": {
    "deletable": false,
    "lx_assignment_number": "2",
    "lx_assignment_type": "ASSIGNMENT",
    "lx_assignment_type2print": "Assignment",
    "lx_problem_cell_type": "PROBLEM",
    "lx_problem_number": "3",
    "lx_problem_points": "8"
   },
   "source": [
    "---\n",
    "## Assignment 2, PROBLEM 3\n",
    "Maximum Points = 8"
   ]
  },
  {
   "cell_type": "markdown",
   "metadata": {
    "deletable": false,
    "lx_assignment_number": "2",
    "lx_assignment_type": "ASSIGNMENT",
    "lx_assignment_type2print": "Assignment",
    "lx_problem_cell_type": "PROBLEM",
    "lx_problem_number": "3",
    "lx_problem_points": "8"
   },
   "source": [
    "\n",
    "## Random variable generation and transformation\n",
    "\n",
    "The purpose of this problem is to show that you can implement your own sampler, this will be built in the following three steps:\n",
    "\n",
    "1. [2p] Implement a Linear Congruential Generator where you tested out a good combination (a large $M$ with $a,b$ satisfying the Hull-Dobell (Thm 6.8)) of parameters. Follow the instructions in the code block.\n",
    "2. [2p] Using a generator construct random numbers from the uniform $[0,1]$ distribution.\n",
    "3. [4p] Using a uniform $[0,1]$ random generator, generate samples from \n",
    "\n",
    "$$p_0(x) = \\frac{\\pi}{2}|\\sin(2\\pi x)|, \\quad x \\in [0,1] \\enspace .$$\n",
    "\n",
    "Using the **Accept-Reject** sampler (**Algorithm 1** in TFDS notes) with sampling density given by the uniform $[0,1]$ distribution."
   ]
  },
  {
   "cell_type": "code",
   "execution_count": 98,
   "metadata": {
    "deletable": false,
    "lx_assignment_number": "2",
    "lx_assignment_type": "ASSIGNMENT",
    "lx_assignment_type2print": "Assignment",
    "lx_problem_cell_type": "PROBLEM",
    "lx_problem_number": "3",
    "lx_problem_points": "8"
   },
   "outputs": [],
   "source": [
    "\n",
    "def problem3_LCG(size=None, seed=0):\n",
    "    \"\"\"\n",
    "    A linear congruential generator that generates pseudo random numbers according to size.\n",
    "    \n",
    "    Parameters\n",
    "    -------------\n",
    "    size : an integer denoting how many samples should be produced\n",
    "    seed : the starting point of the LCG, i.e., u0 in the notes.\n",
    "    \n",
    "    Returns\n",
    "    -------------\n",
    "    out : a list of the pseudo random numbers\n",
    "    \"\"\"\n",
    "    \n",
    "    a = 1664525\n",
    "    b = 1013904223\n",
    "    M = 2**32  # A large M value\n",
    "    state = seed\n",
    "    \n",
    "    # Initialize the state (seed)\n",
    "    state = seed\n",
    "    \n",
    "    # List to hold the pseudorandom numbers\n",
    "    out = []\n",
    "    \n",
    "    # Generate pseudorandom numbers up to the specified size\n",
    "    for _ in range(size if size is not None else 1):\n",
    "        # Update the state using the LCG formula\n",
    "        state = (a * state + b) % M\n",
    "        # Append the state to the list after normalizing\n",
    "        out.append(state / M)\n",
    "    \n",
    "    return out"
   ]
  },
  {
   "cell_type": "code",
   "execution_count": 99,
   "metadata": {
    "deletable": false,
    "lx_assignment_number": "2",
    "lx_assignment_type": "ASSIGNMENT",
    "lx_assignment_type2print": "Assignment",
    "lx_problem_cell_type": "PROBLEM",
    "lx_problem_number": "3",
    "lx_problem_points": "8"
   },
   "outputs": [],
   "source": [
    "\n",
    "def problem3_uniform(generator=None, period=1, size=None, seed=0):\n",
    "    \"\"\"\n",
    "    Takes a generator and produces samples from the uniform [0,1] distribution according\n",
    "    to size.\n",
    "    \n",
    "    Parameters\n",
    "    -------------\n",
    "    generator : a function of type generator(size, seed) that produces pseudo random numbers\n",
    "                in the range {0,1,...,period-1}\n",
    "    period    : the period of the generator\n",
    "    seed      : the seed to be used in the generator provided\n",
    "    size      : an integer denoting how many samples should be produced\n",
    "    \n",
    "    Returns\n",
    "    --------------\n",
    "    out : a list of the uniform pseudo random numbers\n",
    "    \"\"\"\n",
    "    \n",
    "    # Generate pseudo random numbers with the given generator\n",
    "    random_numbers = generator(size=size, seed=seed)\n",
    "    \n",
    "    # Normalize these numbers to the range [0,1]\n",
    "    uniform_random_numbers = [number / period for number in random_numbers]\n",
    "    \n",
    "    return uniform_random_numbers"
   ]
  },
  {
   "cell_type": "code",
   "execution_count": 100,
   "metadata": {
    "deletable": false,
    "lx_assignment_number": "2",
    "lx_assignment_type": "ASSIGNMENT",
    "lx_assignment_type2print": "Assignment",
    "lx_problem_cell_type": "PROBLEM",
    "lx_problem_number": "3",
    "lx_problem_points": "8"
   },
   "outputs": [
    {
     "name": "stdout",
     "output_type": "stream",
     "text": [
      "Accept-Reject sampler [1.1010818434027149e-10, 1.1046912066467086e-10, 1.1083005698907022e-10, 1.1119099331346958e-10, 1.1155192963786894e-10, 1.119128659622683e-10, 1.1227380228666766e-10, 1.1263473861106702e-10, 1.1299567493546638e-10, 1.1335661125986574e-10, 1.137175475842651e-10, 1.1407848390866447e-10, 1.1443942023306383e-10, 1.1480035655746319e-10, 1.1516129288186255e-10, 1.1552222920626191e-10, 1.1588316553066127e-10, 1.1624410185506063e-10, 1.1660503817946e-10, 1.1696597450385936e-10]\n"
     ]
    }
   ],
   "source": [
    "def problem3_accept_reject(uniformGenerator=None, n_iterations=None, seed=0):\n",
    "    # No need to set np.random.seed here since we're not using np.random directly\n",
    "    \n",
    "    # Initialize a variable to keep track of the current state.\n",
    "    current_seed = seed\n",
    "    samples = []\n",
    "    M = np.pi / 2  # The bound for the accept-reject criterion\n",
    "\n",
    "    while len(samples) < n_iterations:\n",
    "        # Sample from the uniform distribution using the provided generator\n",
    "        x = uniformGenerator(size=1, seed=current_seed)[0]\n",
    "        \n",
    "        # Calculate the probability of accepting the sample\n",
    "        f_x = (np.pi / 2) * abs(np.sin(x * 2 * np.pi))\n",
    "\n",
    "        # Use the next seed value for the acceptance check\n",
    "        current_seed += 1\n",
    "        u = uniformGenerator(size=1, seed=current_seed)[0]  # Uniform random number for acceptance\n",
    "\n",
    "        # Increment the seed for the next iteration\n",
    "        current_seed += 1\n",
    "        \n",
    "        # Accept the sample with probability f(x)/(M*g(x))\n",
    "        if u < f_x / M:\n",
    "            samples.append(x)\n",
    "    \n",
    "    return samples\n",
    "\n",
    "# You can then call your function with the initial seed:\n",
    "print(\"Accept-Reject sampler %s\" % problem3_accept_reject(uniformGenerator=uniform_sampler, n_iterations=20, seed=1))"
   ]
  },
  {
   "cell_type": "markdown",
   "metadata": {
    "deletable": false,
    "lx_assignment_number": "2",
    "lx_assignment_type": "ASSIGNMENT",
    "lx_assignment_type2print": "Assignment",
    "lx_problem_cell_type": "Test",
    "lx_problem_number": "3",
    "lx_problem_points": "8"
   },
   "source": [
    "---\n",
    "#### Local Test for Assignment 2, PROBLEM 3\n",
    "Evaluate cell below to make sure your answer is valid.                             You **should not** modify anything in the cell below when evaluating it to do a local test of                             your solution.\n",
    "You may need to include and evaluate code snippets from lecture notebooks in cells above to make the local test work correctly sometimes (see error messages for clues). This is meant to help you become efficient at recalling materials covered in lectures that relate to this problem. Such local tests will generally not be available in the exam."
   ]
  },
  {
   "cell_type": "code",
   "execution_count": 101,
   "metadata": {
    "deletable": false,
    "lx_assignment_number": "2",
    "lx_assignment_type": "ASSIGNMENT",
    "lx_assignment_type2print": "Assignment",
    "lx_problem_cell_type": "Test",
    "lx_problem_number": "3",
    "lx_problem_points": "8"
   },
   "outputs": [
    {
     "name": "stdout",
     "output_type": "stream",
     "text": [
      "LCG output: [0.23645552527159452, 0.3692706737201661, 0.5042420323006809, 0.7048832636792213, 0.05054362863302231, 0.3695183543022722, 0.7747629624791443, 0.556188570568338, 0.0164932357147336, 0.6392460397910327]\n",
      "Uniform sampler [1.1010818434027149e-10, 1.7195505736960152e-10, 2.3480599398514574e-10, 3.28236848119394e-10, 2.353621118541738e-11, 1.720703926283599e-10, 3.6077711863439596e-10, 2.5899548587730784e-10, 7.68026137836923e-12, 2.9767213393408096e-10]\n"
     ]
    }
   ],
   "source": [
    "\n",
    "print(\"LCG output: %s\" % problem3_LCG(size=10, seed=1))\n",
    "\n",
    "# Set the period to the modulus used in your LCG (replace 2**31 - 1 with your modulus if different)\n",
    "period = 2**31 - 1\n",
    "\n",
    "# Print the output of the uniform sampler\n",
    "print(\"Uniform sampler %s\" % problem3_uniform(generator=problem3_LCG, period=period, size=10, seed=1))\n",
    "\n",
    "# Define the uniform_sampler function using a lambda expression\n",
    "uniform_sampler = lambda size, seed: problem3_uniform(generator=problem3_LCG, period=period, size=size, seed=seed)"
   ]
  },
  {
   "cell_type": "code",
   "execution_count": 102,
   "metadata": {
    "deletable": false,
    "lx_assignment_number": "2",
    "lx_assignment_type": "ASSIGNMENT",
    "lx_assignment_type2print": "Assignment",
    "lx_problem_cell_type": "Test",
    "lx_problem_number": "3",
    "lx_problem_points": "8"
   },
   "outputs": [
    {
     "name": "stdout",
     "output_type": "stream",
     "text": [
      "Accept-Reject sampler [0.23796462709189137, 0.32383276483316237, 0.2590084917154736, 0.6484972199788831, 0.6820045605879779, 0.20985124453651727, 0.38102068999577143, 0.2718754143840908, 0.35184625582788265, 0.243517762709337, 0.22418547484732643, 0.414743999308679, 0.6842409524120733, 0.32375334582076565, 0.27981547357298786, 0.799115369116727, 0.14533616183328069, 0.1995887063541001, 0.14595480067964695, 0.08109066462388448]\n"
     ]
    }
   ],
   "source": [
    "\n",
    "# If however you did not manage to implement either part 1 or part 2 but still want to check part 3, you can run the code below\n",
    "\n",
    "def testUniformGenerator(size,seed):\n",
    "    import random\n",
    "    random.seed(seed)\n",
    "    \n",
    "    return [random.uniform(0,1) for s in range(size)]\n",
    "\n",
    "print(\"Accept-Reject sampler %s\" % problem3_accept_reject(uniformGenerator=testUniformGenerator, n_iterations=20, seed=1))"
   ]
  },
  {
   "cell_type": "code",
   "execution_count": null,
   "metadata": {},
   "outputs": [],
   "source": []
  },
  {
   "cell_type": "code",
   "execution_count": null,
   "metadata": {},
   "outputs": [],
   "source": []
  },
  {
   "cell_type": "code",
   "execution_count": null,
   "metadata": {},
   "outputs": [],
   "source": []
  },
  {
   "cell_type": "code",
   "execution_count": null,
   "metadata": {},
   "outputs": [],
   "source": []
  }
 ],
 "metadata": {
  "kernelspec": {
   "display_name": "Python 3 (ipykernel)",
   "language": "python",
   "name": "python3"
  },
  "language_info": {
   "codemirror_mode": {
    "name": "ipython",
    "version": 3
   },
   "file_extension": ".py",
   "mimetype": "text/x-python",
   "name": "python",
   "nbconvert_exporter": "python",
   "pygments_lexer": "ipython3",
   "version": "3.10.9"
  },
  "lx_assignment_number": 2,
  "lx_course_instance": "2023",
  "lx_course_name": "Introduction to Data Science",
  "lx_course_number": "1MS041"
 },
 "nbformat": 4,
 "nbformat_minor": 4
}
