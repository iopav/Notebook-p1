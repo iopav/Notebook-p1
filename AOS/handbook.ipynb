{
 "cells": [
  {
   "cell_type": "markdown",
   "metadata": {},
   "source": [
    "# Python Handbook"
   ]
  },
  {
   "cell_type": "markdown",
   "metadata": {},
   "source": [
    "## Utils"
   ]
  },
  {
   "cell_type": "code",
   "execution_count": null,
   "metadata": {},
   "outputs": [],
   "source": [
    "from Utils import plotEMF\n",
    "p = 0.1\n",
    "plotEMF([(0,1-p),(1,p)])\n",
    "\n",
    "from Utils import plotEDF,emfToEdf \n",
    "plotEDF(emfToEdf([(0,0),(0,1-p),(1,p)]))\n",
    "\n",
    "from scipy.special import binom as binomial\n",
    "n = 20\n",
    "p = 0.5\n",
    "plotEMF([(i,binomial(n,i)*(p**i)*((1-p)**(n-i))) for i in range(n)])\n",
    "\n",
    "plotEDF(emfToEdf([(i,binomial(n,i)*(p**i)*((1-p)**(n-i))) for i in range(n)]))"
   ]
  },
  {
   "cell_type": "markdown",
   "metadata": {},
   "source": [
    "## 重要公式\n"
   ]
  },
  {
   "cell_type": "code",
   "execution_count": null,
   "metadata": {},
   "outputs": [],
   "source": [
    "#霍夫丁不等式\n",
    "epsilon = np.sqrt(-1/(2*n)*np.log((1-0.95)/2))\n",
    "#本尼特不等式-标准差\n",
    "def bennett_epsilon(n,b,sigma,alpha):\n",
    "    import scipy.optimize as so\n",
    "    h = lambda u: (1+u)*np.log(1+u)-u\n",
    "    f = lambda epsilon: np.exp(-n*sigma**2/b**2*h(b*epsilon/sigma**2))-alpha/2\n",
    "    ans = so.fsolve(f,0.002)\n",
    "    epsilon = np.abs(ans[0])\n",
    "    print(\"Numerical error\", f(epsilon))\n",
    "    return epsilon\n",
    "\n",
    "bennett_epsilon(50,300,20,0.05)\n",
    "\n",
    "\n",
    "#线性同余\n",
    "def linConGen(m, a, b, x0, n):\n",
    "    '''A linear congruential sequence generator.\n",
    "    \n",
    "    Param m is the integer modulus to use in the generator.\n",
    "    Param a is the integer multiplier.\n",
    "    Param b is the integer increment.\n",
    "    Param x0 is the integer seed.\n",
    "    Param n is the integer number of desired pseudo-random numbers.\n",
    "    \n",
    "    Returns a list of n pseudo-random integer modulo m numbers.'''\n",
    "    \n",
    "    x = x0 # the seed\n",
    "    retValue = [x % m]  # start the list with x=x0\n",
    "    for i in range(2, n+1, 1):\n",
    "        x = (a * x + b) % m # the generator, using modular arithmetic\n",
    "        retValue.append(x) # append the new x to the list\n",
    "    return retValue\n",
    "\n",
    "#markov chain\n",
    "from Utils import makeFreq\n",
    "transitions_data = np.stack([all_daysdata[:-1],all_daysdata[1:]])\n",
    "transitions_data[:,200:210]\n",
    "transition_counts = makeFreq(transitions_data)\n",
    "transition_counts\n",
    "n_00 = transition_counts[0,-1]\n",
    "n_01 = transition_counts[1,-1]\n",
    "n_10 = transition_counts[2,-1]\n",
    "n_11 = transition_counts[3,-1]\n",
    "n_00, n_01, n_10, n_11\n",
    "def estimateMatrix(n_00,n_01,n_10,n_11):\n",
    "    p00 = n_00/(n_00+n_01)\n",
    "    p11 = n_11/(n_11+n_10)\n",
    "    p10 = 1-p11\n",
    "    p01 = 1-p00\n",
    "    return np.matrix([[p00,p01],[p10,p11]])\n",
    "estimateMatrix(n_00,n_01,n_10,n_11)\n",
    "evals,evecs = np.linalg.eig(estimateMatrix(n_00,n_01,n_10,n_11).T)\n",
    "# During the lecture I forgot to transpose the transition matrix above\n",
    "# which I should have due to the computation I did on the board\n",
    "evals,evecs\n",
    "evecs[:,0]/np.sum(evecs[:,0])"
   ]
  },
  {
   "cell_type": "markdown",
   "metadata": {},
   "source": [
    "特征值和特征向量在分析马尔可夫链的行为中起着重要的作用。特别是，马尔可夫链的稳态分布可以通过求解转移矩阵的特征向量来找到。\n",
    "\n",
    "马尔可夫链的转移矩阵是一个方阵，我们可以找到它的特征值和特征向量。对于马尔可夫链，我们特别关注特征值为1的特征向量，因为这个特征向量对应的就是马尔可夫链的稳态分布。\n",
    "\n",
    "稳态分布是一个概率分布，它描述了马尔可夫链在长时间运行后，各个状态的概率分布。在稳态分布下，马尔可夫链的状态分布不再改变，即使我们继续进行状态转移。\n",
    "\n",
    "在Python中，我们可以使用 `numpy.linalg.eig` 函数来求解转移矩阵的特征值和特征向量。这个函数返回两个数组，第一个数组包含了所有的特征值，第二个数组的每一列是对应的特征向量。我们可以找到特征值为1的特征向量，然后将这个特征向量归一化，使其元素之和为1，就得到了马尔可夫链的稳态分布。"
   ]
  },
  {
   "cell_type": "code",
   "execution_count": null,
   "metadata": {},
   "outputs": [],
   "source": [
    "from Utils import classification_report_interval\n",
    "print(classification_report_interval(Y_test,per.predict(X_test)))\n",
    "from sklearn.metrics import average_precision_score\n",
    "average_precision_score(Y_test,per.predict_proba(X_test)[:,1])\n",
    "MAE = np.mean(np.abs(Y_test - lr.predict(X_test)))\n",
    "\n",
    "\n",
    "from Utils import epsilon_bounded\n",
    "epsilon = epsilon_bounded(len(Y_test),span*2,0.05)\n",
    "epsilon\n",
    "\n",
    "\n",
    "\n"
   ]
  },
  {
   "cell_type": "markdown",
   "metadata": {},
   "source": [
    "### 数据读取"
   ]
  },
  {
   "cell_type": "code",
   "execution_count": null,
   "metadata": {},
   "outputs": [],
   "source": [
    "import csv\n",
    "data = []\n",
    "\n",
    "with open('data/NYPowerBall.csv',mode='r') as f:\n",
    "    csv_reader = csv.reader(f)\n",
    "    header = next(csv_reader)\n",
    "    \n",
    "    for line in csv_reader:\n",
    "        data.append(line)"
   ]
  },
  {
   "cell_type": "markdown",
   "metadata": {},
   "source": [
    "## Numpy"
   ]
  },
  {
   "cell_type": "markdown",
   "metadata": {},
   "source": []
  },
  {
   "cell_type": "code",
   "execution_count": null,
   "metadata": {},
   "outputs": [],
   "source": [
    "b = np.loadtxt(\"temp.csv\", delimiter=\",\")\n",
    "print(b)                   #打印b数组\n",
    "print(max(b.reshape(-1)))  #打印b数组中的最大值\n",
    "print(min(b.reshape(-1)))  #打印b数组中的最小值\n",
    "import numpy as np\n",
    " \n",
    "a = np.arange(0,10000).reshape(100,100)\n",
    "np.savetxt(\"temp.csv\", a, delimiter=\",\")\n",
    "\n",
    "\n",
    "import numpy as np\n",
    "a1 = np.arange(10)\n",
    "# 1.1 进行索引操作\n",
    "print(a1[4]) # 4\n",
    "# 1.2 进行切片操作\n",
    "print(a1[4:6])# [4 5]\n",
    "# 1.3 使用步长\n",
    "print(a1[::2])# [0 2 4 6 8]\n",
    "# 1.4 使用负数来作为索引\n",
    "print(a1[-1]) # 9\n",
    "\n",
    "\n",
    "import numpy as np\n",
    "a2 = np.random.randint(0,10,size=(4,6))\n",
    "print(a2)\n",
    "\n",
    "print(a2[0])\n",
    "\n",
    "print(a2[1:3])\n",
    "\n",
    "print(a2[[0,2,3]]) # 获取不连续的几行的数据\n",
    "\n",
    "print(a2[[1,3],[4,4]]) # 花式索引,(1,4)第1行4列，(3,4)3行4列，注意行和列的索引都是从0开始\n",
    "a2[,[0]]取列\n",
    "print(a2[1:3,4:6]) # 取1-2行，4-5列之间\n",
    "'''\n",
    "[[4 2 0 2 4 0]\n",
    " [9 5 5 5 7 9]\n",
    " [2 6 3 0 1 6]\n",
    " [3 6 9 0 5 4]]\n",
    "**********\n",
    "[4 2 0 2 4 0]\n",
    "**********\n",
    "[[9 5 5 5 7 9]\n",
    " [2 6 3 0 1 6]]\n",
    "**********\n",
    "[[4 2 0 2 4 0]\n",
    " [2 6 3 0 1 6]\n",
    " [3 6 9 0 5 4]]\n",
    "--------------------\n",
    "[7 5]\n",
    "--------------------\n",
    "[[7 9]\n",
    " [1 6]]\n",
    "'''\n",
    "\n",
    "\n"
   ]
  },
  {
   "cell_type": "code",
   "execution_count": null,
   "metadata": {
    "vscode": {
     "languageId": "plaintext"
    }
   },
   "outputs": [],
   "source": [
    "①若是a.reshape(x, -1)则是将矩阵a变成行数为x，列数不规定的矩阵，具体列数按照总元素个数除行数，均分得到。\n",
    "②若是a.reshape(-1, x)则是将矩阵a变成列数为x，行数不规定的矩阵，具体行数按照总元素个数除列数，均分得到。"
   ]
  },
  {
   "cell_type": "markdown",
   "metadata": {},
   "source": [
    "## Panda"
   ]
  },
  {
   "cell_type": "markdown",
   "metadata": {},
   "source": []
  },
  {
   "cell_type": "code",
   "execution_count": null,
   "metadata": {},
   "outputs": [],
   "source": [
    "# 创建一个data变量存储数据\n",
    "data = pd.read_csv('StudentPerformance.csv')\n",
    "# 展示一下数据\n",
    "print(data)\n",
    "# 获取首行（标签）名称\n",
    "labels = list(data.columns.values)\n",
    "print(labels)\n",
    " \n",
    "# 查看数据特征\n",
    "print(data.dtypes)\n",
    " \n",
    "# 列名\n",
    "print(data.columns)\n",
    " \n",
    "# 索引\n",
    "print(data.index)\n",
    " \n",
    "#查看特征空值信息，以及数据类型\n",
    "print(data.info(verbose=True))\n",
    " \n",
    "#输出数据集前n个样本，默认n=5\n",
    "print(data.head(n=5))\n",
    "# 列名\n",
    "print(df.columns)\n",
    "# 索引\n",
    "print(df.index)"
   ]
  },
  {
   "cell_type": "markdown",
   "metadata": {},
   "source": [
    "## 画图"
   ]
  },
  {
   "cell_type": "code",
   "execution_count": null,
   "metadata": {},
   "outputs": [],
   "source": [
    "_=plt.hist(np.random.normal(size=100000),bins=200)\n",
    "\n",
    "\n",
    "x_pred = np.linspace(np.min(X),np.max(X),2)\n",
    "y_pred = x_pred*result['x'][0]+result['x'][1]\n",
    "plt.scatter(X,Y)\n",
    "plt.plot(x_pred,y_pred,color='green')"
   ]
  }
 ],
 "metadata": {
  "language_info": {
   "name": "python"
  }
 },
 "nbformat": 4,
 "nbformat_minor": 2
}
